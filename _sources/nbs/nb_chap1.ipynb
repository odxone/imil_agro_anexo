{
 "cells": [
  {
   "cell_type": "markdown",
   "id": "c1cce620",
   "metadata": {},
   "source": [
    "# Cenário Econômico"
   ]
  },
  {
   "cell_type": "markdown",
   "id": "9c4a74a1",
   "metadata": {},
   "source": [
    "Fonte: SGS Banco Central do Brasil\n",
    "\n",
    "Nestes dois primeiros Capítulos foram plotadas informações macro econômicas sobre a perspectiva do setor agropecuário. Para analisar o cenário econômico foram utilizadas séries do IBGE do repositório SGS do Banco Central do Brasil, obtidos através de API."
   ]
  },
  {
   "cell_type": "markdown",
   "id": "ceb97f77",
   "metadata": {},
   "source": [
    "## Carregando bibliotecas"
   ]
  },
  {
   "cell_type": "code",
   "execution_count": 1,
   "id": "434e1f68",
   "metadata": {},
   "outputs": [],
   "source": [
    "#dados\n",
    "import sgs\n",
    "\n",
    "#manipulacao de dados\n",
    "import pandas as pd\n",
    "\n",
    "#graphs\n",
    "import altair as alt"
   ]
  },
  {
   "cell_type": "code",
   "execution_count": 2,
   "id": "5033ce1b",
   "metadata": {},
   "outputs": [],
   "source": [
    "series = [7326]\n",
    "labels = ['PIB_variação_real_ano']\n",
    "data_inicial ='31-12-1962'\n",
    "data_final = '31-12-2020'\n",
    "PIB_variação= sgs.dataframe(series, start= data_inicial, end=data_final)\n",
    "PIB_variação= PIB_variação.rename(columns={s:l for s, l in zip(series, labels)})"
   ]
  },
  {
   "cell_type": "code",
   "execution_count": 3,
   "id": "49ac37ec",
   "metadata": {},
   "outputs": [],
   "source": [
    "vermelho, azul = \"#ae1325\", \"#1a1e76\"\n",
    "\n",
    "def highlight_breakpoint(campo, breakpoint=0, colors=(vermelho,azul)):\n",
    "    return alt.condition(f\"datum.{campo} <= {breakpoint}\", alt.value(vermelho), alt.value(azul))"
   ]
  },
  {
   "cell_type": "code",
   "execution_count": 4,
   "id": "3cab98ce",
   "metadata": {},
   "outputs": [
    {
     "data": {
      "text/html": [
       "\n",
       "<div id=\"altair-viz-de75307d196b4e8dadc8971da881596f\"></div>\n",
       "<script type=\"text/javascript\">\n",
       "  (function(spec, embedOpt){\n",
       "    let outputDiv = document.currentScript.previousElementSibling;\n",
       "    if (outputDiv.id !== \"altair-viz-de75307d196b4e8dadc8971da881596f\") {\n",
       "      outputDiv = document.getElementById(\"altair-viz-de75307d196b4e8dadc8971da881596f\");\n",
       "    }\n",
       "    const paths = {\n",
       "      \"vega\": \"https://cdn.jsdelivr.net/npm//vega@5?noext\",\n",
       "      \"vega-lib\": \"https://cdn.jsdelivr.net/npm//vega-lib?noext\",\n",
       "      \"vega-lite\": \"https://cdn.jsdelivr.net/npm//vega-lite@4.8.1?noext\",\n",
       "      \"vega-embed\": \"https://cdn.jsdelivr.net/npm//vega-embed@6?noext\",\n",
       "    };\n",
       "\n",
       "    function loadScript(lib) {\n",
       "      return new Promise(function(resolve, reject) {\n",
       "        var s = document.createElement('script');\n",
       "        s.src = paths[lib];\n",
       "        s.async = true;\n",
       "        s.onload = () => resolve(paths[lib]);\n",
       "        s.onerror = () => reject(`Error loading script: ${paths[lib]}`);\n",
       "        document.getElementsByTagName(\"head\")[0].appendChild(s);\n",
       "      });\n",
       "    }\n",
       "\n",
       "    function showError(err) {\n",
       "      outputDiv.innerHTML = `<div class=\"error\" style=\"color:red;\">${err}</div>`;\n",
       "      throw err;\n",
       "    }\n",
       "\n",
       "    function displayChart(vegaEmbed) {\n",
       "      vegaEmbed(outputDiv, spec, embedOpt)\n",
       "        .catch(err => showError(`Javascript Error: ${err.message}<br>This usually means there's a typo in your chart specification. See the javascript console for the full traceback.`));\n",
       "    }\n",
       "\n",
       "    if(typeof define === \"function\" && define.amd) {\n",
       "      requirejs.config({paths});\n",
       "      require([\"vega-embed\"], displayChart, err => showError(`Error loading script: ${err.message}`));\n",
       "    } else if (typeof vegaEmbed === \"function\") {\n",
       "      displayChart(vegaEmbed);\n",
       "    } else {\n",
       "      loadScript(\"vega\")\n",
       "        .then(() => loadScript(\"vega-lite\"))\n",
       "        .then(() => loadScript(\"vega-embed\"))\n",
       "        .catch(showError)\n",
       "        .then(() => displayChart(vegaEmbed));\n",
       "    }\n",
       "  })({\"config\": {\"view\": {\"continuousWidth\": 400, \"continuousHeight\": 300}}, \"data\": {\"name\": \"data-6d259cdc511d3be4caf35a1b5ee1eec0\"}, \"mark\": {\"type\": \"bar\", \"width\": 10}, \"encoding\": {\"color\": {\"condition\": {\"value\": \"#ae1325\", \"test\": \"datum.PIB_varia\\u00e7\\u00e3o_real_ano <= 0\"}, \"value\": \"#1a1e76\"}, \"tooltip\": [{\"type\": \"temporal\", \"field\": \"index\"}, {\"type\": \"quantitative\", \"field\": \"PIB_varia\\u00e7\\u00e3o_real_ano\"}], \"x\": {\"type\": \"temporal\", \"field\": \"index\", \"title\": \"Per\\u00edodo\"}, \"y\": {\"type\": \"quantitative\", \"field\": \"PIB_varia\\u00e7\\u00e3o_real_ano\", \"title\": \"Varia\\u00e7\\u00e3o percentual\"}}, \"height\": 400, \"title\": \"Varia\\u00e7\\u00e3o real anual do PIB\", \"width\": 800, \"$schema\": \"https://vega.github.io/schema/vega-lite/v4.8.1.json\", \"datasets\": {\"data-6d259cdc511d3be4caf35a1b5ee1eec0\": [{\"index\": \"1962-01-01T00:00:00\", \"PIB_varia\\u00e7\\u00e3o_real_ano\": 6.6}, {\"index\": \"1963-01-01T00:00:00\", \"PIB_varia\\u00e7\\u00e3o_real_ano\": 0.6}, {\"index\": \"1964-01-01T00:00:00\", \"PIB_varia\\u00e7\\u00e3o_real_ano\": 3.4}, {\"index\": \"1965-01-01T00:00:00\", \"PIB_varia\\u00e7\\u00e3o_real_ano\": 2.4}, {\"index\": \"1966-01-01T00:00:00\", \"PIB_varia\\u00e7\\u00e3o_real_ano\": 6.7}, {\"index\": \"1967-01-01T00:00:00\", \"PIB_varia\\u00e7\\u00e3o_real_ano\": 4.2}, {\"index\": \"1968-01-01T00:00:00\", \"PIB_varia\\u00e7\\u00e3o_real_ano\": 9.8}, {\"index\": \"1969-01-01T00:00:00\", \"PIB_varia\\u00e7\\u00e3o_real_ano\": 9.5}, {\"index\": \"1970-01-01T00:00:00\", \"PIB_varia\\u00e7\\u00e3o_real_ano\": 10.4}, {\"index\": \"1971-01-01T00:00:00\", \"PIB_varia\\u00e7\\u00e3o_real_ano\": 11.34}, {\"index\": \"1972-01-01T00:00:00\", \"PIB_varia\\u00e7\\u00e3o_real_ano\": 11.94}, {\"index\": \"1973-01-01T00:00:00\", \"PIB_varia\\u00e7\\u00e3o_real_ano\": 13.97}, {\"index\": \"1974-01-01T00:00:00\", \"PIB_varia\\u00e7\\u00e3o_real_ano\": 8.15}, {\"index\": \"1975-01-01T00:00:00\", \"PIB_varia\\u00e7\\u00e3o_real_ano\": 5.17}, {\"index\": \"1976-01-01T00:00:00\", \"PIB_varia\\u00e7\\u00e3o_real_ano\": 10.26}, {\"index\": \"1977-01-01T00:00:00\", \"PIB_varia\\u00e7\\u00e3o_real_ano\": 4.93}, {\"index\": \"1978-01-01T00:00:00\", \"PIB_varia\\u00e7\\u00e3o_real_ano\": 4.97}, {\"index\": \"1979-01-01T00:00:00\", \"PIB_varia\\u00e7\\u00e3o_real_ano\": 6.76}, {\"index\": \"1980-01-01T00:00:00\", \"PIB_varia\\u00e7\\u00e3o_real_ano\": 9.23}, {\"index\": \"1981-01-01T00:00:00\", \"PIB_varia\\u00e7\\u00e3o_real_ano\": -4.25}, {\"index\": \"1982-01-01T00:00:00\", \"PIB_varia\\u00e7\\u00e3o_real_ano\": 0.83}, {\"index\": \"1983-01-01T00:00:00\", \"PIB_varia\\u00e7\\u00e3o_real_ano\": -2.93}, {\"index\": \"1984-01-01T00:00:00\", \"PIB_varia\\u00e7\\u00e3o_real_ano\": 5.4}, {\"index\": \"1985-01-01T00:00:00\", \"PIB_varia\\u00e7\\u00e3o_real_ano\": 7.85}, {\"index\": \"1986-01-01T00:00:00\", \"PIB_varia\\u00e7\\u00e3o_real_ano\": 7.49}, {\"index\": \"1987-01-01T00:00:00\", \"PIB_varia\\u00e7\\u00e3o_real_ano\": 3.53}, {\"index\": \"1988-01-01T00:00:00\", \"PIB_varia\\u00e7\\u00e3o_real_ano\": -0.06}, {\"index\": \"1989-01-01T00:00:00\", \"PIB_varia\\u00e7\\u00e3o_real_ano\": 3.16}, {\"index\": \"1990-01-01T00:00:00\", \"PIB_varia\\u00e7\\u00e3o_real_ano\": -4.35}, {\"index\": \"1991-01-01T00:00:00\", \"PIB_varia\\u00e7\\u00e3o_real_ano\": 1.03}, {\"index\": \"1992-01-01T00:00:00\", \"PIB_varia\\u00e7\\u00e3o_real_ano\": -0.54}, {\"index\": \"1993-01-01T00:00:00\", \"PIB_varia\\u00e7\\u00e3o_real_ano\": 4.92}, {\"index\": \"1994-01-01T00:00:00\", \"PIB_varia\\u00e7\\u00e3o_real_ano\": 5.85}, {\"index\": \"1995-01-01T00:00:00\", \"PIB_varia\\u00e7\\u00e3o_real_ano\": 4.22}, {\"index\": \"1996-01-01T00:00:00\", \"PIB_varia\\u00e7\\u00e3o_real_ano\": 2.21}, {\"index\": \"1997-01-01T00:00:00\", \"PIB_varia\\u00e7\\u00e3o_real_ano\": 3.39}, {\"index\": \"1998-01-01T00:00:00\", \"PIB_varia\\u00e7\\u00e3o_real_ano\": 0.34}, {\"index\": \"1999-01-01T00:00:00\", \"PIB_varia\\u00e7\\u00e3o_real_ano\": 0.47}, {\"index\": \"2000-01-01T00:00:00\", \"PIB_varia\\u00e7\\u00e3o_real_ano\": 4.39}, {\"index\": \"2001-01-01T00:00:00\", \"PIB_varia\\u00e7\\u00e3o_real_ano\": 1.39}, {\"index\": \"2002-01-01T00:00:00\", \"PIB_varia\\u00e7\\u00e3o_real_ano\": 3.05}, {\"index\": \"2003-01-01T00:00:00\", \"PIB_varia\\u00e7\\u00e3o_real_ano\": 1.14}, {\"index\": \"2004-01-01T00:00:00\", \"PIB_varia\\u00e7\\u00e3o_real_ano\": 5.76}, {\"index\": \"2005-01-01T00:00:00\", \"PIB_varia\\u00e7\\u00e3o_real_ano\": 3.2}, {\"index\": \"2006-01-01T00:00:00\", \"PIB_varia\\u00e7\\u00e3o_real_ano\": 3.96}, {\"index\": \"2007-01-01T00:00:00\", \"PIB_varia\\u00e7\\u00e3o_real_ano\": 6.07}, {\"index\": \"2008-01-01T00:00:00\", \"PIB_varia\\u00e7\\u00e3o_real_ano\": 5.09}, {\"index\": \"2009-01-01T00:00:00\", \"PIB_varia\\u00e7\\u00e3o_real_ano\": -0.13}, {\"index\": \"2010-01-01T00:00:00\", \"PIB_varia\\u00e7\\u00e3o_real_ano\": 7.53}, {\"index\": \"2011-01-01T00:00:00\", \"PIB_varia\\u00e7\\u00e3o_real_ano\": 3.97}, {\"index\": \"2012-01-01T00:00:00\", \"PIB_varia\\u00e7\\u00e3o_real_ano\": 1.92}, {\"index\": \"2013-01-01T00:00:00\", \"PIB_varia\\u00e7\\u00e3o_real_ano\": 3.0}, {\"index\": \"2014-01-01T00:00:00\", \"PIB_varia\\u00e7\\u00e3o_real_ano\": 0.5}, {\"index\": \"2015-01-01T00:00:00\", \"PIB_varia\\u00e7\\u00e3o_real_ano\": -3.55}, {\"index\": \"2016-01-01T00:00:00\", \"PIB_varia\\u00e7\\u00e3o_real_ano\": -3.28}, {\"index\": \"2017-01-01T00:00:00\", \"PIB_varia\\u00e7\\u00e3o_real_ano\": 1.32}, {\"index\": \"2018-01-01T00:00:00\", \"PIB_varia\\u00e7\\u00e3o_real_ano\": 1.78}, {\"index\": \"2019-01-01T00:00:00\", \"PIB_varia\\u00e7\\u00e3o_real_ano\": 1.41}, {\"index\": \"2020-01-01T00:00:00\", \"PIB_varia\\u00e7\\u00e3o_real_ano\": -4.06}]}}, {\"mode\": \"vega-lite\"});\n",
       "</script>"
      ],
      "text/plain": [
       "alt.Chart(...)"
      ]
     },
     "execution_count": 4,
     "metadata": {},
     "output_type": "execute_result"
    }
   ],
   "source": [
    "fig = (\n",
    "    alt.Chart(\n",
    "        PIB_variação.reset_index(),\n",
    "        title='Variação real anual do PIB',\n",
    "        width=800,\n",
    "        height=400)\n",
    "    .mark_bar(width=10)\n",
    "    .encode(\n",
    "        x = alt.X('index:T', title='Período'),\n",
    "        y = alt.Y('PIB_variação_real_ano:Q', title='Variação percentual'),\n",
    "        color=highlight_breakpoint(\"PIB_variação_real_ano\"),\n",
    "        tooltip=alt.Tooltip(['index:T', 'PIB_variação_real_ano:Q'])\n",
    "    )\n",
    ")\n",
    "fig"
   ]
  },
  {
   "cell_type": "code",
   "execution_count": 5,
   "id": "d52f40f6",
   "metadata": {},
   "outputs": [],
   "source": [
    "series = [4380]\n",
    "labels = ['PIB_valores']\n",
    "data_inicial ='31-12-1990'\n",
    "data_final = '31-12-2020'\n",
    "PIB_valores = sgs.dataframe(series, start= data_inicial, end=data_final)\n",
    "PIB_valores = PIB_valores.rename(columns={s:l for s, l in zip(series, labels)})"
   ]
  },
  {
   "cell_type": "code",
   "execution_count": 6,
   "id": "4b9debfd",
   "metadata": {},
   "outputs": [
    {
     "data": {
      "text/html": [
       "\n",
       "<div id=\"altair-viz-6a19cdff7d034053857e0c5baad054da\"></div>\n",
       "<script type=\"text/javascript\">\n",
       "  (function(spec, embedOpt){\n",
       "    let outputDiv = document.currentScript.previousElementSibling;\n",
       "    if (outputDiv.id !== \"altair-viz-6a19cdff7d034053857e0c5baad054da\") {\n",
       "      outputDiv = document.getElementById(\"altair-viz-6a19cdff7d034053857e0c5baad054da\");\n",
       "    }\n",
       "    const paths = {\n",
       "      \"vega\": \"https://cdn.jsdelivr.net/npm//vega@5?noext\",\n",
       "      \"vega-lib\": \"https://cdn.jsdelivr.net/npm//vega-lib?noext\",\n",
       "      \"vega-lite\": \"https://cdn.jsdelivr.net/npm//vega-lite@4.8.1?noext\",\n",
       "      \"vega-embed\": \"https://cdn.jsdelivr.net/npm//vega-embed@6?noext\",\n",
       "    };\n",
       "\n",
       "    function loadScript(lib) {\n",
       "      return new Promise(function(resolve, reject) {\n",
       "        var s = document.createElement('script');\n",
       "        s.src = paths[lib];\n",
       "        s.async = true;\n",
       "        s.onload = () => resolve(paths[lib]);\n",
       "        s.onerror = () => reject(`Error loading script: ${paths[lib]}`);\n",
       "        document.getElementsByTagName(\"head\")[0].appendChild(s);\n",
       "      });\n",
       "    }\n",
       "\n",
       "    function showError(err) {\n",
       "      outputDiv.innerHTML = `<div class=\"error\" style=\"color:red;\">${err}</div>`;\n",
       "      throw err;\n",
       "    }\n",
       "\n",
       "    function displayChart(vegaEmbed) {\n",
       "      vegaEmbed(outputDiv, spec, embedOpt)\n",
       "        .catch(err => showError(`Javascript Error: ${err.message}<br>This usually means there's a typo in your chart specification. See the javascript console for the full traceback.`));\n",
       "    }\n",
       "\n",
       "    if(typeof define === \"function\" && define.amd) {\n",
       "      requirejs.config({paths});\n",
       "      require([\"vega-embed\"], displayChart, err => showError(`Error loading script: ${err.message}`));\n",
       "    } else if (typeof vegaEmbed === \"function\") {\n",
       "      displayChart(vegaEmbed);\n",
       "    } else {\n",
       "      loadScript(\"vega\")\n",
       "        .then(() => loadScript(\"vega-lite\"))\n",
       "        .then(() => loadScript(\"vega-embed\"))\n",
       "        .catch(showError)\n",
       "        .then(() => displayChart(vegaEmbed));\n",
       "    }\n",
       "  })({\"config\": {\"view\": {\"continuousWidth\": 400, \"continuousHeight\": 300}, \"mark\": {\"color\": \"#1a1e76\"}}, \"data\": {\"name\": \"data-db652d4ed0035bf640bc36b3deeb3591\"}, \"mark\": \"area\", \"encoding\": {\"x\": {\"type\": \"temporal\", \"field\": \"index\", \"title\": \"Per\\u00edodo\"}, \"y\": {\"type\": \"quantitative\", \"field\": \"PIB_valores\", \"title\": \"Trilh\\u00f5es de R$\"}}, \"height\": 400, \"title\": \"PIB mensal em valores correntes\", \"width\": 800, \"$schema\": \"https://vega.github.io/schema/vega-lite/v4.8.1.json\", \"datasets\": {\"data-db652d4ed0035bf640bc36b3deeb3591\": [{\"index\": \"1990-12-01T00:00:00\", \"PIB_valores\": 1.8}, {\"index\": \"1991-01-01T00:00:00\", \"PIB_valores\": 2.1}, {\"index\": \"1991-02-01T00:00:00\", \"PIB_valores\": 2.4}, {\"index\": \"1991-03-01T00:00:00\", \"PIB_valores\": 2.5}, {\"index\": \"1991-04-01T00:00:00\", \"PIB_valores\": 3.1}, {\"index\": \"1991-05-01T00:00:00\", \"PIB_valores\": 3.6}, {\"index\": \"1991-06-01T00:00:00\", \"PIB_valores\": 4.1}, {\"index\": \"1991-07-01T00:00:00\", \"PIB_valores\": 4.6}, {\"index\": \"1991-08-01T00:00:00\", \"PIB_valores\": 5.3}, {\"index\": \"1991-09-01T00:00:00\", \"PIB_valores\": 5.6}, {\"index\": \"1991-10-01T00:00:00\", \"PIB_valores\": 7.5}, {\"index\": \"1991-11-01T00:00:00\", \"PIB_valores\": 9.2}, {\"index\": \"1991-12-01T00:00:00\", \"PIB_valores\": 10.5}, {\"index\": \"1992-01-01T00:00:00\", \"PIB_valores\": 13.1}, {\"index\": \"1992-02-01T00:00:00\", \"PIB_valores\": 16.3}, {\"index\": \"1992-03-01T00:00:00\", \"PIB_valores\": 19.6}, {\"index\": \"1992-04-01T00:00:00\", \"PIB_valores\": 23.6}, {\"index\": \"1992-05-01T00:00:00\", \"PIB_valores\": 30.1}, {\"index\": \"1992-06-01T00:00:00\", \"PIB_valores\": 37.5}, {\"index\": \"1992-07-01T00:00:00\", \"PIB_valores\": 46.1}, {\"index\": \"1992-08-01T00:00:00\", \"PIB_valores\": 56.7}, {\"index\": \"1992-09-01T00:00:00\", \"PIB_valores\": 70.8}, {\"index\": \"1992-10-01T00:00:00\", \"PIB_valores\": 89.0}, {\"index\": \"1992-11-01T00:00:00\", \"PIB_valores\": 110.4}, {\"index\": \"1992-12-01T00:00:00\", \"PIB_valores\": 127.7}, {\"index\": \"1993-01-01T00:00:00\", \"PIB_valores\": 164.0}, {\"index\": \"1993-02-01T00:00:00\", \"PIB_valores\": 206.9}, {\"index\": \"1993-03-01T00:00:00\", \"PIB_valores\": 294.6}, {\"index\": \"1993-04-01T00:00:00\", \"PIB_valores\": 368.1}, {\"index\": \"1993-05-01T00:00:00\", \"PIB_valores\": 481.6}, {\"index\": \"1993-06-01T00:00:00\", \"PIB_valores\": 613.5}, {\"index\": \"1993-07-01T00:00:00\", \"PIB_valores\": 841.4}, {\"index\": \"1993-08-01T00:00:00\", \"PIB_valores\": 1149.5}, {\"index\": \"1993-09-01T00:00:00\", \"PIB_valores\": 1578.4}, {\"index\": \"1993-10-01T00:00:00\", \"PIB_valores\": 2071.3}, {\"index\": \"1993-11-01T00:00:00\", \"PIB_valores\": 2792.8}, {\"index\": \"1993-12-01T00:00:00\", \"PIB_valores\": 3534.9}, {\"index\": \"1994-01-01T00:00:00\", \"PIB_valores\": 4562.8}, {\"index\": \"1994-02-01T00:00:00\", \"PIB_valores\": 5793.0}, {\"index\": \"1994-03-01T00:00:00\", \"PIB_valores\": 8520.4}, {\"index\": \"1994-04-01T00:00:00\", \"PIB_valores\": 12828.8}, {\"index\": \"1994-05-01T00:00:00\", \"PIB_valores\": 20504.2}, {\"index\": \"1994-06-01T00:00:00\", \"PIB_valores\": 33126.6}, {\"index\": \"1994-07-01T00:00:00\", \"PIB_valores\": 40788.0}, {\"index\": \"1994-08-01T00:00:00\", \"PIB_valores\": 43873.4}, {\"index\": \"1994-09-01T00:00:00\", \"PIB_valores\": 43836.2}, {\"index\": \"1994-10-01T00:00:00\", \"PIB_valores\": 45234.9}, {\"index\": \"1994-11-01T00:00:00\", \"PIB_valores\": 45926.2}, {\"index\": \"1994-12-01T00:00:00\", \"PIB_valores\": 44210.2}, {\"index\": \"1995-01-01T00:00:00\", \"PIB_valores\": 47028.6}, {\"index\": \"1995-02-01T00:00:00\", \"PIB_valores\": 49954.5}, {\"index\": \"1995-03-01T00:00:00\", \"PIB_valores\": 60024.3}, {\"index\": \"1995-04-01T00:00:00\", \"PIB_valores\": 57789.5}, {\"index\": \"1995-05-01T00:00:00\", \"PIB_valores\": 56350.5}, {\"index\": \"1995-06-01T00:00:00\", \"PIB_valores\": 56726.2}, {\"index\": \"1995-07-01T00:00:00\", \"PIB_valores\": 58788.1}, {\"index\": \"1995-08-01T00:00:00\", \"PIB_valores\": 60950.3}, {\"index\": \"1995-09-01T00:00:00\", \"PIB_valores\": 60610.8}, {\"index\": \"1995-10-01T00:00:00\", \"PIB_valores\": 63428.1}, {\"index\": \"1995-11-01T00:00:00\", \"PIB_valores\": 67762.9}, {\"index\": \"1995-12-01T00:00:00\", \"PIB_valores\": 66577.7}, {\"index\": \"1996-01-01T00:00:00\", \"PIB_valores\": 64133.3}, {\"index\": \"1996-02-01T00:00:00\", \"PIB_valores\": 62202.2}, {\"index\": \"1996-03-01T00:00:00\", \"PIB_valores\": 62987.8}, {\"index\": \"1996-04-01T00:00:00\", \"PIB_valores\": 64019.1}, {\"index\": \"1996-05-01T00:00:00\", \"PIB_valores\": 69488.7}, {\"index\": \"1996-06-01T00:00:00\", \"PIB_valores\": 71103.0}, {\"index\": \"1996-07-01T00:00:00\", \"PIB_valores\": 74969.9}, {\"index\": \"1996-08-01T00:00:00\", \"PIB_valores\": 74798.8}, {\"index\": \"1996-09-01T00:00:00\", \"PIB_valores\": 71744.6}, {\"index\": \"1996-10-01T00:00:00\", \"PIB_valores\": 77200.1}, {\"index\": \"1996-11-01T00:00:00\", \"PIB_valores\": 80449.1}, {\"index\": \"1996-12-01T00:00:00\", \"PIB_valores\": 81667.1}, {\"index\": \"1997-01-01T00:00:00\", \"PIB_valores\": 77582.6}, {\"index\": \"1997-02-01T00:00:00\", \"PIB_valores\": 71072.8}, {\"index\": \"1997-03-01T00:00:00\", \"PIB_valores\": 70461.6}, {\"index\": \"1997-04-01T00:00:00\", \"PIB_valores\": 73576.4}, {\"index\": \"1997-05-01T00:00:00\", \"PIB_valores\": 78110.8}, {\"index\": \"1997-06-01T00:00:00\", \"PIB_valores\": 81202.4}, {\"index\": \"1997-07-01T00:00:00\", \"PIB_valores\": 82058.7}, {\"index\": \"1997-08-01T00:00:00\", \"PIB_valores\": 82132.5}, {\"index\": \"1997-09-01T00:00:00\", \"PIB_valores\": 81987.3}, {\"index\": \"1997-10-01T00:00:00\", \"PIB_valores\": 87297.2}, {\"index\": \"1997-11-01T00:00:00\", \"PIB_valores\": 85390.1}, {\"index\": \"1997-12-01T00:00:00\", \"PIB_valores\": 81216.8}, {\"index\": \"1998-01-01T00:00:00\", \"PIB_valores\": 79363.9}, {\"index\": \"1998-02-01T00:00:00\", \"PIB_valores\": 75828.1}, {\"index\": \"1998-03-01T00:00:00\", \"PIB_valores\": 80508.7}, {\"index\": \"1998-04-01T00:00:00\", \"PIB_valores\": 81166.1}, {\"index\": \"1998-05-01T00:00:00\", \"PIB_valores\": 85207.5}, {\"index\": \"1998-06-01T00:00:00\", \"PIB_valores\": 85562.4}, {\"index\": \"1998-07-01T00:00:00\", \"PIB_valores\": 86938.5}, {\"index\": \"1998-08-01T00:00:00\", \"PIB_valores\": 86371.3}, {\"index\": \"1998-09-01T00:00:00\", \"PIB_valores\": 84733.5}, {\"index\": \"1998-10-01T00:00:00\", \"PIB_valores\": 87302.8}, {\"index\": \"1998-11-01T00:00:00\", \"PIB_valores\": 86316.5}, {\"index\": \"1998-12-01T00:00:00\", \"PIB_valores\": 83051.8}, {\"index\": \"1999-01-01T00:00:00\", \"PIB_valores\": 80936.3}, {\"index\": \"1999-02-01T00:00:00\", \"PIB_valores\": 80929.1}, {\"index\": \"1999-03-01T00:00:00\", \"PIB_valores\": 88802.6}, {\"index\": \"1999-04-01T00:00:00\", \"PIB_valores\": 87739.0}, {\"index\": \"1999-05-01T00:00:00\", \"PIB_valores\": 89223.0}, {\"index\": \"1999-06-01T00:00:00\", \"PIB_valores\": 91746.9}, {\"index\": \"1999-07-01T00:00:00\", \"PIB_valores\": 91230.4}, {\"index\": \"1999-08-01T00:00:00\", \"PIB_valores\": 92283.4}, {\"index\": \"1999-09-01T00:00:00\", \"PIB_valores\": 90611.8}, {\"index\": \"1999-10-01T00:00:00\", \"PIB_valores\": 95872.4}, {\"index\": \"1999-11-01T00:00:00\", \"PIB_valores\": 99563.1}, {\"index\": \"1999-12-01T00:00:00\", \"PIB_valores\": 98772.5}, {\"index\": \"2000-01-01T00:00:00\", \"PIB_valores\": 92576.6}, {\"index\": \"2000-02-01T00:00:00\", \"PIB_valores\": 91770.4}, {\"index\": \"2000-03-01T00:00:00\", \"PIB_valores\": 92579.9}, {\"index\": \"2000-04-01T00:00:00\", \"PIB_valores\": 91376.2}, {\"index\": \"2000-05-01T00:00:00\", \"PIB_valores\": 98727.0}, {\"index\": \"2000-06-01T00:00:00\", \"PIB_valores\": 102685.4}, {\"index\": \"2000-07-01T00:00:00\", \"PIB_valores\": 103410.4}, {\"index\": \"2000-08-01T00:00:00\", \"PIB_valores\": 105177.8}, {\"index\": \"2000-09-01T00:00:00\", \"PIB_valores\": 100307.6}, {\"index\": \"2000-10-01T00:00:00\", \"PIB_valores\": 106951.1}, {\"index\": \"2000-11-01T00:00:00\", \"PIB_valores\": 107678.0}, {\"index\": \"2000-12-01T00:00:00\", \"PIB_valores\": 105851.6}, {\"index\": \"2001-01-01T00:00:00\", \"PIB_valores\": 102530.7}, {\"index\": \"2001-02-01T00:00:00\", \"PIB_valores\": 101635.3}, {\"index\": \"2001-03-01T00:00:00\", \"PIB_valores\": 108303.8}, {\"index\": \"2001-04-01T00:00:00\", \"PIB_valores\": 107572.0}, {\"index\": \"2001-05-01T00:00:00\", \"PIB_valores\": 111202.2}, {\"index\": \"2001-06-01T00:00:00\", \"PIB_valores\": 104949.4}, {\"index\": \"2001-07-01T00:00:00\", \"PIB_valores\": 110758.9}, {\"index\": \"2001-08-01T00:00:00\", \"PIB_valores\": 113064.7}, {\"index\": \"2001-09-01T00:00:00\", \"PIB_valores\": 108700.8}, {\"index\": \"2001-10-01T00:00:00\", \"PIB_valores\": 116139.0}, {\"index\": \"2001-11-01T00:00:00\", \"PIB_valores\": 117882.0}, {\"index\": \"2001-12-01T00:00:00\", \"PIB_valores\": 113016.7}, {\"index\": \"2002-01-01T00:00:00\", \"PIB_valores\": 112374.8}, {\"index\": \"2002-02-01T00:00:00\", \"PIB_valores\": 111477.1}, {\"index\": \"2002-03-01T00:00:00\", \"PIB_valores\": 118444.7}, {\"index\": \"2002-04-01T00:00:00\", \"PIB_valores\": 120385.9}, {\"index\": \"2002-05-01T00:00:00\", \"PIB_valores\": 123552.5}, {\"index\": \"2002-06-01T00:00:00\", \"PIB_valores\": 123424.4}, {\"index\": \"2002-07-01T00:00:00\", \"PIB_valores\": 126856.6}, {\"index\": \"2002-08-01T00:00:00\", \"PIB_valores\": 127800.1}, {\"index\": \"2002-09-01T00:00:00\", \"PIB_valores\": 125137.8}, {\"index\": \"2002-10-01T00:00:00\", \"PIB_valores\": 133125.4}, {\"index\": \"2002-11-01T00:00:00\", \"PIB_valores\": 135966.6}, {\"index\": \"2002-12-01T00:00:00\", \"PIB_valores\": 130241.2}, {\"index\": \"2003-01-01T00:00:00\", \"PIB_valores\": 127177.5}, {\"index\": \"2003-02-01T00:00:00\", \"PIB_valores\": 131373.6}, {\"index\": \"2003-03-01T00:00:00\", \"PIB_valores\": 138690.5}, {\"index\": \"2003-04-01T00:00:00\", \"PIB_valores\": 141388.1}, {\"index\": \"2003-05-01T00:00:00\", \"PIB_valores\": 139605.8}, {\"index\": \"2003-06-01T00:00:00\", \"PIB_valores\": 137993.4}, {\"index\": \"2003-07-01T00:00:00\", \"PIB_valores\": 145970.6}, {\"index\": \"2003-08-01T00:00:00\", \"PIB_valores\": 144819.4}, {\"index\": \"2003-09-01T00:00:00\", \"PIB_valores\": 148559.8}, {\"index\": \"2003-10-01T00:00:00\", \"PIB_valores\": 154925.9}, {\"index\": \"2003-11-01T00:00:00\", \"PIB_valores\": 153644.4}, {\"index\": \"2003-12-01T00:00:00\", \"PIB_valores\": 153801.4}, {\"index\": \"2004-01-01T00:00:00\", \"PIB_valores\": 144558.6}, {\"index\": \"2004-02-01T00:00:00\", \"PIB_valores\": 142861.3}, {\"index\": \"2004-03-01T00:00:00\", \"PIB_valores\": 157363.5}, {\"index\": \"2004-04-01T00:00:00\", \"PIB_valores\": 156953.9}, {\"index\": \"2004-05-01T00:00:00\", \"PIB_valores\": 159498.9}, {\"index\": \"2004-06-01T00:00:00\", \"PIB_valores\": 165342.2}, {\"index\": \"2004-07-01T00:00:00\", \"PIB_valores\": 171370.9}, {\"index\": \"2004-08-01T00:00:00\", \"PIB_valores\": 169178.9}, {\"index\": \"2004-09-01T00:00:00\", \"PIB_valores\": 164702.5}, {\"index\": \"2004-10-01T00:00:00\", \"PIB_valores\": 170536.5}, {\"index\": \"2004-11-01T00:00:00\", \"PIB_valores\": 176921.5}, {\"index\": \"2004-12-01T00:00:00\", \"PIB_valores\": 178462.4}, {\"index\": \"2005-01-01T00:00:00\", \"PIB_valores\": 163540.1}, {\"index\": \"2005-02-01T00:00:00\", \"PIB_valores\": 160701.6}, {\"index\": \"2005-03-01T00:00:00\", \"PIB_valores\": 175468.7}, {\"index\": \"2005-04-01T00:00:00\", \"PIB_valores\": 177178.9}, {\"index\": \"2005-05-01T00:00:00\", \"PIB_valores\": 177496.7}, {\"index\": \"2005-06-01T00:00:00\", \"PIB_valores\": 180881.8}, {\"index\": \"2005-07-01T00:00:00\", \"PIB_valores\": 184073.7}, {\"index\": \"2005-08-01T00:00:00\", \"PIB_valores\": 187246.6}, {\"index\": \"2005-09-01T00:00:00\", \"PIB_valores\": 181538.9}, {\"index\": \"2005-10-01T00:00:00\", \"PIB_valores\": 189183.0}, {\"index\": \"2005-11-01T00:00:00\", \"PIB_valores\": 194794.5}, {\"index\": \"2005-12-01T00:00:00\", \"PIB_valores\": 198480.1}, {\"index\": \"2006-01-01T00:00:00\", \"PIB_valores\": 185564.8}, {\"index\": \"2006-02-01T00:00:00\", \"PIB_valores\": 178482.2}, {\"index\": \"2006-03-01T00:00:00\", \"PIB_valores\": 190223.4}, {\"index\": \"2006-04-01T00:00:00\", \"PIB_valores\": 185030.6}, {\"index\": \"2006-05-01T00:00:00\", \"PIB_valores\": 197874.3}, {\"index\": \"2006-06-01T00:00:00\", \"PIB_valores\": 199071.9}, {\"index\": \"2006-07-01T00:00:00\", \"PIB_valores\": 206974.4}, {\"index\": \"2006-08-01T00:00:00\", \"PIB_valores\": 209818.0}, {\"index\": \"2006-09-01T00:00:00\", \"PIB_valores\": 201055.3}, {\"index\": \"2006-10-01T00:00:00\", \"PIB_valores\": 214271.7}, {\"index\": \"2006-11-01T00:00:00\", \"PIB_valores\": 219724.1}, {\"index\": \"2006-12-01T00:00:00\", \"PIB_valores\": 221359.1}, {\"index\": \"2007-01-01T00:00:00\", \"PIB_valores\": 211130.6}, {\"index\": \"2007-02-01T00:00:00\", \"PIB_valores\": 202703.9}, {\"index\": \"2007-03-01T00:00:00\", \"PIB_valores\": 217588.5}, {\"index\": \"2007-04-01T00:00:00\", \"PIB_valores\": 215128.5}, {\"index\": \"2007-05-01T00:00:00\", \"PIB_valores\": 226537.7}, {\"index\": \"2007-06-01T00:00:00\", \"PIB_valores\": 228988.5}, {\"index\": \"2007-07-01T00:00:00\", \"PIB_valores\": 233823.9}, {\"index\": \"2007-08-01T00:00:00\", \"PIB_valores\": 235019.1}, {\"index\": \"2007-09-01T00:00:00\", \"PIB_valores\": 223002.9}, {\"index\": \"2007-10-01T00:00:00\", \"PIB_valores\": 241939.4}, {\"index\": \"2007-11-01T00:00:00\", \"PIB_valores\": 241938.8}, {\"index\": \"2007-12-01T00:00:00\", \"PIB_valores\": 242461.1}, {\"index\": \"2008-01-01T00:00:00\", \"PIB_valores\": 237248.1}, {\"index\": \"2008-02-01T00:00:00\", \"PIB_valores\": 232681.3}, {\"index\": \"2008-03-01T00:00:00\", \"PIB_valores\": 242125.8}, {\"index\": \"2008-04-01T00:00:00\", \"PIB_valores\": 248795.2}, {\"index\": \"2008-05-01T00:00:00\", \"PIB_valores\": 254938.0}, {\"index\": \"2008-06-01T00:00:00\", \"PIB_valores\": 265791.9}, {\"index\": \"2008-07-01T00:00:00\", \"PIB_valores\": 278096.8}, {\"index\": \"2008-08-01T00:00:00\", \"PIB_valores\": 269235.7}, {\"index\": \"2008-09-01T00:00:00\", \"PIB_valores\": 265270.1}, {\"index\": \"2008-10-01T00:00:00\", \"PIB_valores\": 280522.4}, {\"index\": \"2008-11-01T00:00:00\", \"PIB_valores\": 270696.8}, {\"index\": \"2008-12-01T00:00:00\", \"PIB_valores\": 264400.9}, {\"index\": \"2009-01-01T00:00:00\", \"PIB_valores\": 249932.0}, {\"index\": \"2009-02-01T00:00:00\", \"PIB_valores\": 244020.2}, {\"index\": \"2009-03-01T00:00:00\", \"PIB_valores\": 262174.9}, {\"index\": \"2009-04-01T00:00:00\", \"PIB_valores\": 259557.8}, {\"index\": \"2009-05-01T00:00:00\", \"PIB_valores\": 268320.2}, {\"index\": \"2009-06-01T00:00:00\", \"PIB_valores\": 275699.5}, {\"index\": \"2009-07-01T00:00:00\", \"PIB_valores\": 285440.4}, {\"index\": \"2009-08-01T00:00:00\", \"PIB_valores\": 284240.7}, {\"index\": \"2009-09-01T00:00:00\", \"PIB_valores\": 283162.2}, {\"index\": \"2009-10-01T00:00:00\", \"PIB_valores\": 301896.1}, {\"index\": \"2009-11-01T00:00:00\", \"PIB_valores\": 305056.7}, {\"index\": \"2009-12-01T00:00:00\", \"PIB_valores\": 313538.8}, {\"index\": \"2010-01-01T00:00:00\", \"PIB_valores\": 288980.4}, {\"index\": \"2010-02-01T00:00:00\", \"PIB_valores\": 285739.0}, {\"index\": \"2010-03-01T00:00:00\", \"PIB_valores\": 311678.0}, {\"index\": \"2010-04-01T00:00:00\", \"PIB_valores\": 307106.9}, {\"index\": \"2010-05-01T00:00:00\", \"PIB_valores\": 316005.2}, {\"index\": \"2010-06-01T00:00:00\", \"PIB_valores\": 321032.9}, {\"index\": \"2010-07-01T00:00:00\", \"PIB_valores\": 332472.7}, {\"index\": \"2010-08-01T00:00:00\", \"PIB_valores\": 334225.3}, {\"index\": \"2010-09-01T00:00:00\", \"PIB_valores\": 331236.8}, {\"index\": \"2010-10-01T00:00:00\", \"PIB_valores\": 344965.8}, {\"index\": \"2010-11-01T00:00:00\", \"PIB_valores\": 356674.5}, {\"index\": \"2010-12-01T00:00:00\", \"PIB_valores\": 355729.5}, {\"index\": \"2011-01-01T00:00:00\", \"PIB_valores\": 333330.5}, {\"index\": \"2011-02-01T00:00:00\", \"PIB_valores\": 335117.4}, {\"index\": \"2011-03-01T00:00:00\", \"PIB_valores\": 348082.8}, {\"index\": \"2011-04-01T00:00:00\", \"PIB_valores\": 349254.9}, {\"index\": \"2011-05-01T00:00:00\", \"PIB_valores\": 366411.1}, {\"index\": \"2011-06-01T00:00:00\", \"PIB_valores\": 371046.3}, {\"index\": \"2011-07-01T00:00:00\", \"PIB_valores\": 373333.6}, {\"index\": \"2011-08-01T00:00:00\", \"PIB_valores\": 377006.0}, {\"index\": \"2011-09-01T00:00:00\", \"PIB_valores\": 361994.5}, {\"index\": \"2011-10-01T00:00:00\", \"PIB_valores\": 378842.7}, {\"index\": \"2011-11-01T00:00:00\", \"PIB_valores\": 389949.5}, {\"index\": \"2011-12-01T00:00:00\", \"PIB_valores\": 392012.6}, {\"index\": \"2012-01-01T00:00:00\", \"PIB_valores\": 367752.3}, {\"index\": \"2012-02-01T00:00:00\", \"PIB_valores\": 367853.1}, {\"index\": \"2012-03-01T00:00:00\", \"PIB_valores\": 393868.7}, {\"index\": \"2012-04-01T00:00:00\", \"PIB_valores\": 382581.7}, {\"index\": \"2012-05-01T00:00:00\", \"PIB_valores\": 401073.1}, {\"index\": \"2012-06-01T00:00:00\", \"PIB_valores\": 399470.8}, {\"index\": \"2012-07-01T00:00:00\", \"PIB_valores\": 415385.4}, {\"index\": \"2012-08-01T00:00:00\", \"PIB_valores\": 420727.8}, {\"index\": \"2012-09-01T00:00:00\", \"PIB_valores\": 394335.7}, {\"index\": \"2012-10-01T00:00:00\", \"PIB_valores\": 423407.7}, {\"index\": \"2012-11-01T00:00:00\", \"PIB_valores\": 424493.0}, {\"index\": \"2012-12-01T00:00:00\", \"PIB_valores\": 423810.8}, {\"index\": \"2013-01-01T00:00:00\", \"PIB_valores\": 414582.2}, {\"index\": \"2013-02-01T00:00:00\", \"PIB_valores\": 399103.8}, {\"index\": \"2013-03-01T00:00:00\", \"PIB_valores\": 427928.0}, {\"index\": \"2013-04-01T00:00:00\", \"PIB_valores\": 439447.2}, {\"index\": \"2013-05-01T00:00:00\", \"PIB_valores\": 439656.6}, {\"index\": \"2013-06-01T00:00:00\", \"PIB_valores\": 443476.4}, {\"index\": \"2013-07-01T00:00:00\", \"PIB_valores\": 459577.9}, {\"index\": \"2013-08-01T00:00:00\", \"PIB_valores\": 454223.1}, {\"index\": \"2013-09-01T00:00:00\", \"PIB_valores\": 440333.0}, {\"index\": \"2013-10-01T00:00:00\", \"PIB_valores\": 468527.4}, {\"index\": \"2013-11-01T00:00:00\", \"PIB_valores\": 468303.0}, {\"index\": \"2013-12-01T00:00:00\", \"PIB_valores\": 476460.3}, {\"index\": \"2014-01-01T00:00:00\", \"PIB_valores\": 460560.1}, {\"index\": \"2014-02-01T00:00:00\", \"PIB_valores\": 456120.1}, {\"index\": \"2014-03-01T00:00:00\", \"PIB_valores\": 469299.3}, {\"index\": \"2014-04-01T00:00:00\", \"PIB_valores\": 476308.3}, {\"index\": \"2014-05-01T00:00:00\", \"PIB_valores\": 480674.9}, {\"index\": \"2014-06-01T00:00:00\", \"PIB_valores\": 465337.1}, {\"index\": \"2014-07-01T00:00:00\", \"PIB_valores\": 490268.7}, {\"index\": \"2014-08-01T00:00:00\", \"PIB_valores\": 485880.6}, {\"index\": \"2014-09-01T00:00:00\", \"PIB_valores\": 485976.4}, {\"index\": \"2014-10-01T00:00:00\", \"PIB_valores\": 502767.6}, {\"index\": \"2014-11-01T00:00:00\", \"PIB_valores\": 498028.6}, {\"index\": \"2014-12-01T00:00:00\", \"PIB_valores\": 507731.3}, {\"index\": \"2015-01-01T00:00:00\", \"PIB_valores\": 481178.2}, {\"index\": \"2015-02-01T00:00:00\", \"PIB_valores\": 467056.9}, {\"index\": \"2015-03-01T00:00:00\", \"PIB_valores\": 508435.6}, {\"index\": \"2015-04-01T00:00:00\", \"PIB_valores\": 493526.0}, {\"index\": \"2015-05-01T00:00:00\", \"PIB_valores\": 491340.2}, {\"index\": \"2015-06-01T00:00:00\", \"PIB_valores\": 495114.8}, {\"index\": \"2015-07-01T00:00:00\", \"PIB_valores\": 510992.6}, {\"index\": \"2015-08-01T00:00:00\", \"PIB_valores\": 501349.9}, {\"index\": \"2015-09-01T00:00:00\", \"PIB_valores\": 495884.3}, {\"index\": \"2015-10-01T00:00:00\", \"PIB_valores\": 517277.0}, {\"index\": \"2015-11-01T00:00:00\", \"PIB_valores\": 512562.3}, {\"index\": \"2015-12-01T00:00:00\", \"PIB_valores\": 521069.2}, {\"index\": \"2016-01-01T00:00:00\", \"PIB_valores\": 489680.6}, {\"index\": \"2016-02-01T00:00:00\", \"PIB_valores\": 491935.0}, {\"index\": \"2016-03-01T00:00:00\", \"PIB_valores\": 518610.1}, {\"index\": \"2016-04-01T00:00:00\", \"PIB_valores\": 509807.3}, {\"index\": \"2016-05-01T00:00:00\", \"PIB_valores\": 513542.4}, {\"index\": \"2016-06-01T00:00:00\", \"PIB_valores\": 535641.7}, {\"index\": \"2016-07-01T00:00:00\", \"PIB_valores\": 532466.0}, {\"index\": \"2016-08-01T00:00:00\", \"PIB_valores\": 533612.2}, {\"index\": \"2016-09-01T00:00:00\", \"PIB_valores\": 511108.5}, {\"index\": \"2016-10-01T00:00:00\", \"PIB_valores\": 525546.6}, {\"index\": \"2016-11-01T00:00:00\", \"PIB_valores\": 540889.2}, {\"index\": \"2016-12-01T00:00:00\", \"PIB_valores\": 566488.3}, {\"index\": \"2017-01-01T00:00:00\", \"PIB_valores\": 527950.8}, {\"index\": \"2017-02-01T00:00:00\", \"PIB_valores\": 514528.3}, {\"index\": \"2017-03-01T00:00:00\", \"PIB_valores\": 543490.4}, {\"index\": \"2017-04-01T00:00:00\", \"PIB_valores\": 524909.8}, {\"index\": \"2017-05-01T00:00:00\", \"PIB_valores\": 548581.3}, {\"index\": \"2017-06-01T00:00:00\", \"PIB_valores\": 557445.2}, {\"index\": \"2017-07-01T00:00:00\", \"PIB_valores\": 558825.4}, {\"index\": \"2017-08-01T00:00:00\", \"PIB_valores\": 557910.7}, {\"index\": \"2017-09-01T00:00:00\", \"PIB_valores\": 531835.1}, {\"index\": \"2017-10-01T00:00:00\", \"PIB_valores\": 554301.0}, {\"index\": \"2017-11-01T00:00:00\", \"PIB_valores\": 570942.5}, {\"index\": \"2017-12-01T00:00:00\", \"PIB_valores\": 594758.6}, {\"index\": \"2018-01-01T00:00:00\", \"PIB_valores\": 564989.3}, {\"index\": \"2018-02-01T00:00:00\", \"PIB_valores\": 540380.1}, {\"index\": \"2018-03-01T00:00:00\", \"PIB_valores\": 575498.1}, {\"index\": \"2018-04-01T00:00:00\", \"PIB_valores\": 575973.9}, {\"index\": \"2018-05-01T00:00:00\", \"PIB_valores\": 561814.5}, {\"index\": \"2018-06-01T00:00:00\", \"PIB_valores\": 595664.4}, {\"index\": \"2018-07-01T00:00:00\", \"PIB_valores\": 599726.8}, {\"index\": \"2018-08-01T00:00:00\", \"PIB_valores\": 600962.3}, {\"index\": \"2018-09-01T00:00:00\", \"PIB_valores\": 567647.9}, {\"index\": \"2018-10-01T00:00:00\", \"PIB_valores\": 603296.9}, {\"index\": \"2018-11-01T00:00:00\", \"PIB_valores\": 604495.2}, {\"index\": \"2018-12-01T00:00:00\", \"PIB_valores\": 613691.8}, {\"index\": \"2019-01-01T00:00:00\", \"PIB_valores\": 588899.9}, {\"index\": \"2019-02-01T00:00:00\", \"PIB_valores\": 581809.4}, {\"index\": \"2019-03-01T00:00:00\", \"PIB_valores\": 594924.2}, {\"index\": \"2019-04-01T00:00:00\", \"PIB_valores\": 608320.3}, {\"index\": \"2019-05-01T00:00:00\", \"PIB_valores\": 617026.2}, {\"index\": \"2019-06-01T00:00:00\", \"PIB_valores\": 609019.8}, {\"index\": \"2019-07-01T00:00:00\", \"PIB_valores\": 641268.2}, {\"index\": \"2019-08-01T00:00:00\", \"PIB_valores\": 629310.1}, {\"index\": \"2019-09-01T00:00:00\", \"PIB_valores\": 613424.5}, {\"index\": \"2019-10-01T00:00:00\", \"PIB_valores\": 641462.2}, {\"index\": \"2019-11-01T00:00:00\", \"PIB_valores\": 635215.7}, {\"index\": \"2019-12-01T00:00:00\", \"PIB_valores\": 646343.1}, {\"index\": \"2020-01-01T00:00:00\", \"PIB_valores\": 617701.0}, {\"index\": \"2020-02-01T00:00:00\", \"PIB_valores\": 609810.8}, {\"index\": \"2020-03-01T00:00:00\", \"PIB_valores\": 616351.2}, {\"index\": \"2020-04-01T00:00:00\", \"PIB_valores\": 545941.7}, {\"index\": \"2020-05-01T00:00:00\", \"PIB_valores\": 559345.4}, {\"index\": \"2020-06-01T00:00:00\", \"PIB_valores\": 603472.6}, {\"index\": \"2020-07-01T00:00:00\", \"PIB_valores\": 630869.3}, {\"index\": \"2020-08-01T00:00:00\", \"PIB_valores\": 628818.8}, {\"index\": \"2020-09-01T00:00:00\", \"PIB_valores\": 632047.2}, {\"index\": \"2020-10-01T00:00:00\", \"PIB_valores\": 660199.5}, {\"index\": \"2020-11-01T00:00:00\", \"PIB_valores\": 666928.9}, {\"index\": \"2020-12-01T00:00:00\", \"PIB_valores\": 676371.9}]}}, {\"mode\": \"vega-lite\"});\n",
       "</script>"
      ],
      "text/plain": [
       "alt.Chart(...)"
      ]
     },
     "execution_count": 6,
     "metadata": {},
     "output_type": "execute_result"
    }
   ],
   "source": [
    "fig = (\n",
    "    alt.Chart(\n",
    "        PIB_valores.reset_index(),\n",
    "        title=\"PIB mensal em valores correntes\",\n",
    "        width=800,\n",
    "        height=400,\n",
    "    ).mark_area().encode(\n",
    "        x=alt.X('index:T', title=\"Período\"),\n",
    "        y=alt.Y('PIB_valores:Q', title=\"Trilhões de R$\"),\n",
    "    ).configure_mark(color=azul)\n",
    ")\n",
    "fig"
   ]
  },
  {
   "cell_type": "code",
   "execution_count": 7,
   "id": "9842c176",
   "metadata": {},
   "outputs": [],
   "source": [
    "series = [7327,7329,7328]\n",
    "labels = ['PIB_agro','PIB_serviços','PIB_indústria']\n",
    "data_inicial ='01-01-2015'\n",
    "data_final = '31-12-2020'\n",
    "PIB_setor = sgs.dataframe(series, start= data_inicial, end=data_final)\n",
    "PIB_setor= PIB_setor.rename(columns={s:l for s, l in zip(series, labels)})"
   ]
  },
  {
   "cell_type": "code",
   "execution_count": 8,
   "id": "d583f9d7",
   "metadata": {},
   "outputs": [
    {
     "data": {
      "text/html": [
       "<div>\n",
       "<style scoped>\n",
       "    .dataframe tbody tr th:only-of-type {\n",
       "        vertical-align: middle;\n",
       "    }\n",
       "\n",
       "    .dataframe tbody tr th {\n",
       "        vertical-align: top;\n",
       "    }\n",
       "\n",
       "    .dataframe thead th {\n",
       "        text-align: right;\n",
       "    }\n",
       "</style>\n",
       "<table border=\"1\" class=\"dataframe\">\n",
       "  <thead>\n",
       "    <tr style=\"text-align: right;\">\n",
       "      <th></th>\n",
       "      <th>PIB_agro</th>\n",
       "      <th>PIB_serviços</th>\n",
       "      <th>PIB_indústria</th>\n",
       "    </tr>\n",
       "  </thead>\n",
       "  <tbody>\n",
       "    <tr>\n",
       "      <th>2015-01-01</th>\n",
       "      <td>3.31</td>\n",
       "      <td>-2.73</td>\n",
       "      <td>-5.76</td>\n",
       "    </tr>\n",
       "    <tr>\n",
       "      <th>2016-01-01</th>\n",
       "      <td>-5.22</td>\n",
       "      <td>-2.22</td>\n",
       "      <td>-4.57</td>\n",
       "    </tr>\n",
       "    <tr>\n",
       "      <th>2017-01-01</th>\n",
       "      <td>14.15</td>\n",
       "      <td>0.77</td>\n",
       "      <td>-0.50</td>\n",
       "    </tr>\n",
       "    <tr>\n",
       "      <th>2018-01-01</th>\n",
       "      <td>1.31</td>\n",
       "      <td>2.09</td>\n",
       "      <td>0.72</td>\n",
       "    </tr>\n",
       "    <tr>\n",
       "      <th>2019-01-01</th>\n",
       "      <td>0.63</td>\n",
       "      <td>1.66</td>\n",
       "      <td>0.37</td>\n",
       "    </tr>\n",
       "  </tbody>\n",
       "</table>\n",
       "</div>"
      ],
      "text/plain": [
       "            PIB_agro  PIB_serviços  PIB_indústria\n",
       "2015-01-01      3.31         -2.73          -5.76\n",
       "2016-01-01     -5.22         -2.22          -4.57\n",
       "2017-01-01     14.15          0.77          -0.50\n",
       "2018-01-01      1.31          2.09           0.72\n",
       "2019-01-01      0.63          1.66           0.37"
      ]
     },
     "execution_count": 8,
     "metadata": {},
     "output_type": "execute_result"
    }
   ],
   "source": [
    "PIB_setor.head()"
   ]
  },
  {
   "cell_type": "code",
   "execution_count": 9,
   "id": "bedcbbac",
   "metadata": {},
   "outputs": [
    {
     "data": {
      "text/html": [
       "\n",
       "<div id=\"altair-viz-b349b9a86327433590d6124a27eef5a2\"></div>\n",
       "<script type=\"text/javascript\">\n",
       "  (function(spec, embedOpt){\n",
       "    let outputDiv = document.currentScript.previousElementSibling;\n",
       "    if (outputDiv.id !== \"altair-viz-b349b9a86327433590d6124a27eef5a2\") {\n",
       "      outputDiv = document.getElementById(\"altair-viz-b349b9a86327433590d6124a27eef5a2\");\n",
       "    }\n",
       "    const paths = {\n",
       "      \"vega\": \"https://cdn.jsdelivr.net/npm//vega@5?noext\",\n",
       "      \"vega-lib\": \"https://cdn.jsdelivr.net/npm//vega-lib?noext\",\n",
       "      \"vega-lite\": \"https://cdn.jsdelivr.net/npm//vega-lite@4.8.1?noext\",\n",
       "      \"vega-embed\": \"https://cdn.jsdelivr.net/npm//vega-embed@6?noext\",\n",
       "    };\n",
       "\n",
       "    function loadScript(lib) {\n",
       "      return new Promise(function(resolve, reject) {\n",
       "        var s = document.createElement('script');\n",
       "        s.src = paths[lib];\n",
       "        s.async = true;\n",
       "        s.onload = () => resolve(paths[lib]);\n",
       "        s.onerror = () => reject(`Error loading script: ${paths[lib]}`);\n",
       "        document.getElementsByTagName(\"head\")[0].appendChild(s);\n",
       "      });\n",
       "    }\n",
       "\n",
       "    function showError(err) {\n",
       "      outputDiv.innerHTML = `<div class=\"error\" style=\"color:red;\">${err}</div>`;\n",
       "      throw err;\n",
       "    }\n",
       "\n",
       "    function displayChart(vegaEmbed) {\n",
       "      vegaEmbed(outputDiv, spec, embedOpt)\n",
       "        .catch(err => showError(`Javascript Error: ${err.message}<br>This usually means there's a typo in your chart specification. See the javascript console for the full traceback.`));\n",
       "    }\n",
       "\n",
       "    if(typeof define === \"function\" && define.amd) {\n",
       "      requirejs.config({paths});\n",
       "      require([\"vega-embed\"], displayChart, err => showError(`Error loading script: ${err.message}`));\n",
       "    } else if (typeof vegaEmbed === \"function\") {\n",
       "      displayChart(vegaEmbed);\n",
       "    } else {\n",
       "      loadScript(\"vega\")\n",
       "        .then(() => loadScript(\"vega-lite\"))\n",
       "        .then(() => loadScript(\"vega-embed\"))\n",
       "        .catch(showError)\n",
       "        .then(() => displayChart(vegaEmbed));\n",
       "    }\n",
       "  })({\"config\": {\"view\": {\"continuousWidth\": 400, \"continuousHeight\": 300}}, \"data\": {\"name\": \"data-072be6bd726c5edb1528fb704566c188\"}, \"mark\": {\"type\": \"bar\", \"width\": 90}, \"encoding\": {\"color\": {\"condition\": {\"value\": \"#ae1325\", \"test\": \"datum.PIB_agro <= 0\"}, \"value\": \"#1a1e76\"}, \"tooltip\": [{\"type\": \"temporal\", \"field\": \"index\", \"timeUnit\": \"year\"}, {\"type\": \"quantitative\", \"field\": \"PIB_agro\"}], \"x\": {\"type\": \"temporal\", \"field\": \"index\", \"timeUnit\": \"year\", \"title\": \"Per\\u00edodo\"}, \"y\": {\"type\": \"quantitative\", \"field\": \"PIB_agro\", \"title\": \"Varia\\u00e7\\u00e3o percentual\"}}, \"height\": 400, \"title\": \"Varia\\u00e7\\u00e3o anual do PIB da Agropecu\\u00e1ria\", \"width\": 800, \"$schema\": \"https://vega.github.io/schema/vega-lite/v4.8.1.json\", \"datasets\": {\"data-072be6bd726c5edb1528fb704566c188\": [{\"index\": \"2015-01-01T00:00:00\", \"PIB_agro\": 3.31}, {\"index\": \"2016-01-01T00:00:00\", \"PIB_agro\": -5.22}, {\"index\": \"2017-01-01T00:00:00\", \"PIB_agro\": 14.15}, {\"index\": \"2018-01-01T00:00:00\", \"PIB_agro\": 1.31}, {\"index\": \"2019-01-01T00:00:00\", \"PIB_agro\": 0.63}, {\"index\": \"2020-01-01T00:00:00\", \"PIB_agro\": 1.96}]}}, {\"mode\": \"vega-lite\"});\n",
       "</script>"
      ],
      "text/plain": [
       "alt.Chart(...)"
      ]
     },
     "execution_count": 9,
     "metadata": {},
     "output_type": "execute_result"
    }
   ],
   "source": [
    "fig = (\n",
    "    alt.Chart(\n",
    "        PIB_setor['PIB_agro'].reset_index(),\n",
    "        title='Variação anual do PIB da Agropecuária',\n",
    "        width=800,\n",
    "        height=400)\n",
    "    .mark_bar(width=90)\n",
    "    .encode(\n",
    "        x = alt.X('year(index):T', title='Período'),\n",
    "        y = alt.Y('PIB_agro:Q', title='Variação percentual'),\n",
    "        color=highlight_breakpoint(\"PIB_agro\"),\n",
    "        tooltip=alt.Tooltip(['year(index):T', 'PIB_agro:Q'])\n",
    "    )\n",
    ")\n",
    "fig"
   ]
  },
  {
   "cell_type": "code",
   "execution_count": 10,
   "id": "b0f86f3f",
   "metadata": {},
   "outputs": [
    {
     "data": {
      "text/html": [
       "\n",
       "<div id=\"altair-viz-070175e3d221456babf1e6998e3ec0bf\"></div>\n",
       "<script type=\"text/javascript\">\n",
       "  (function(spec, embedOpt){\n",
       "    let outputDiv = document.currentScript.previousElementSibling;\n",
       "    if (outputDiv.id !== \"altair-viz-070175e3d221456babf1e6998e3ec0bf\") {\n",
       "      outputDiv = document.getElementById(\"altair-viz-070175e3d221456babf1e6998e3ec0bf\");\n",
       "    }\n",
       "    const paths = {\n",
       "      \"vega\": \"https://cdn.jsdelivr.net/npm//vega@5?noext\",\n",
       "      \"vega-lib\": \"https://cdn.jsdelivr.net/npm//vega-lib?noext\",\n",
       "      \"vega-lite\": \"https://cdn.jsdelivr.net/npm//vega-lite@4.8.1?noext\",\n",
       "      \"vega-embed\": \"https://cdn.jsdelivr.net/npm//vega-embed@6?noext\",\n",
       "    };\n",
       "\n",
       "    function loadScript(lib) {\n",
       "      return new Promise(function(resolve, reject) {\n",
       "        var s = document.createElement('script');\n",
       "        s.src = paths[lib];\n",
       "        s.async = true;\n",
       "        s.onload = () => resolve(paths[lib]);\n",
       "        s.onerror = () => reject(`Error loading script: ${paths[lib]}`);\n",
       "        document.getElementsByTagName(\"head\")[0].appendChild(s);\n",
       "      });\n",
       "    }\n",
       "\n",
       "    function showError(err) {\n",
       "      outputDiv.innerHTML = `<div class=\"error\" style=\"color:red;\">${err}</div>`;\n",
       "      throw err;\n",
       "    }\n",
       "\n",
       "    function displayChart(vegaEmbed) {\n",
       "      vegaEmbed(outputDiv, spec, embedOpt)\n",
       "        .catch(err => showError(`Javascript Error: ${err.message}<br>This usually means there's a typo in your chart specification. See the javascript console for the full traceback.`));\n",
       "    }\n",
       "\n",
       "    if(typeof define === \"function\" && define.amd) {\n",
       "      requirejs.config({paths});\n",
       "      require([\"vega-embed\"], displayChart, err => showError(`Error loading script: ${err.message}`));\n",
       "    } else if (typeof vegaEmbed === \"function\") {\n",
       "      displayChart(vegaEmbed);\n",
       "    } else {\n",
       "      loadScript(\"vega\")\n",
       "        .then(() => loadScript(\"vega-lite\"))\n",
       "        .then(() => loadScript(\"vega-embed\"))\n",
       "        .catch(showError)\n",
       "        .then(() => displayChart(vegaEmbed));\n",
       "    }\n",
       "  })({\"config\": {\"view\": {\"continuousWidth\": 400, \"continuousHeight\": 300}}, \"data\": {\"name\": \"data-b522f49e468bfbcb831cb4b7c0d8579b\"}, \"mark\": {\"type\": \"bar\", \"width\": 90}, \"encoding\": {\"color\": {\"condition\": {\"value\": \"#ae1325\", \"test\": \"datum.PIB_servi\\u00e7os <= 0\"}, \"value\": \"#1a1e76\"}, \"tooltip\": [{\"type\": \"temporal\", \"field\": \"index\", \"timeUnit\": \"year\"}, {\"type\": \"quantitative\", \"field\": \"PIB_servi\\u00e7os\"}], \"x\": {\"type\": \"temporal\", \"field\": \"index\", \"timeUnit\": \"year\", \"title\": \"Per\\u00edodo\"}, \"y\": {\"type\": \"quantitative\", \"field\": \"PIB_servi\\u00e7os\", \"title\": \"Varia\\u00e7\\u00e3o percentual\"}}, \"height\": 400, \"title\": \"Varia\\u00e7\\u00e3o anual do PIB de Servi\\u00e7os\", \"width\": 800, \"$schema\": \"https://vega.github.io/schema/vega-lite/v4.8.1.json\", \"datasets\": {\"data-b522f49e468bfbcb831cb4b7c0d8579b\": [{\"index\": \"2015-01-01T00:00:00\", \"PIB_servi\\u00e7os\": -2.73}, {\"index\": \"2016-01-01T00:00:00\", \"PIB_servi\\u00e7os\": -2.22}, {\"index\": \"2017-01-01T00:00:00\", \"PIB_servi\\u00e7os\": 0.77}, {\"index\": \"2018-01-01T00:00:00\", \"PIB_servi\\u00e7os\": 2.09}, {\"index\": \"2019-01-01T00:00:00\", \"PIB_servi\\u00e7os\": 1.66}, {\"index\": \"2020-01-01T00:00:00\", \"PIB_servi\\u00e7os\": -4.46}]}}, {\"mode\": \"vega-lite\"});\n",
       "</script>"
      ],
      "text/plain": [
       "alt.Chart(...)"
      ]
     },
     "execution_count": 10,
     "metadata": {},
     "output_type": "execute_result"
    }
   ],
   "source": [
    "fig = (\n",
    "    alt.Chart(\n",
    "        PIB_setor['PIB_serviços'].reset_index(),\n",
    "        title='Variação anual do PIB de Serviços',\n",
    "        width=800,\n",
    "        height=400)\n",
    "    .mark_bar(width=90)\n",
    "    .encode(\n",
    "        x = alt.X('year(index):T', title='Período'),\n",
    "        y = alt.Y('PIB_serviços:Q', title='Variação percentual'),\n",
    "        color=highlight_breakpoint(\"PIB_serviços\"),\n",
    "        tooltip=alt.Tooltip(['year(index):T', 'PIB_serviços:Q'])\n",
    "    )\n",
    ")\n",
    "fig"
   ]
  },
  {
   "cell_type": "code",
   "execution_count": 11,
   "id": "dd4f718f",
   "metadata": {},
   "outputs": [
    {
     "data": {
      "text/html": [
       "\n",
       "<div id=\"altair-viz-0b89e6f57bc54672bd67fb117168dff0\"></div>\n",
       "<script type=\"text/javascript\">\n",
       "  (function(spec, embedOpt){\n",
       "    let outputDiv = document.currentScript.previousElementSibling;\n",
       "    if (outputDiv.id !== \"altair-viz-0b89e6f57bc54672bd67fb117168dff0\") {\n",
       "      outputDiv = document.getElementById(\"altair-viz-0b89e6f57bc54672bd67fb117168dff0\");\n",
       "    }\n",
       "    const paths = {\n",
       "      \"vega\": \"https://cdn.jsdelivr.net/npm//vega@5?noext\",\n",
       "      \"vega-lib\": \"https://cdn.jsdelivr.net/npm//vega-lib?noext\",\n",
       "      \"vega-lite\": \"https://cdn.jsdelivr.net/npm//vega-lite@4.8.1?noext\",\n",
       "      \"vega-embed\": \"https://cdn.jsdelivr.net/npm//vega-embed@6?noext\",\n",
       "    };\n",
       "\n",
       "    function loadScript(lib) {\n",
       "      return new Promise(function(resolve, reject) {\n",
       "        var s = document.createElement('script');\n",
       "        s.src = paths[lib];\n",
       "        s.async = true;\n",
       "        s.onload = () => resolve(paths[lib]);\n",
       "        s.onerror = () => reject(`Error loading script: ${paths[lib]}`);\n",
       "        document.getElementsByTagName(\"head\")[0].appendChild(s);\n",
       "      });\n",
       "    }\n",
       "\n",
       "    function showError(err) {\n",
       "      outputDiv.innerHTML = `<div class=\"error\" style=\"color:red;\">${err}</div>`;\n",
       "      throw err;\n",
       "    }\n",
       "\n",
       "    function displayChart(vegaEmbed) {\n",
       "      vegaEmbed(outputDiv, spec, embedOpt)\n",
       "        .catch(err => showError(`Javascript Error: ${err.message}<br>This usually means there's a typo in your chart specification. See the javascript console for the full traceback.`));\n",
       "    }\n",
       "\n",
       "    if(typeof define === \"function\" && define.amd) {\n",
       "      requirejs.config({paths});\n",
       "      require([\"vega-embed\"], displayChart, err => showError(`Error loading script: ${err.message}`));\n",
       "    } else if (typeof vegaEmbed === \"function\") {\n",
       "      displayChart(vegaEmbed);\n",
       "    } else {\n",
       "      loadScript(\"vega\")\n",
       "        .then(() => loadScript(\"vega-lite\"))\n",
       "        .then(() => loadScript(\"vega-embed\"))\n",
       "        .catch(showError)\n",
       "        .then(() => displayChart(vegaEmbed));\n",
       "    }\n",
       "  })({\"config\": {\"view\": {\"continuousWidth\": 400, \"continuousHeight\": 300}}, \"data\": {\"name\": \"data-f5646c3ff96a18ec21609d2745238423\"}, \"mark\": {\"type\": \"bar\", \"width\": 90}, \"encoding\": {\"color\": {\"condition\": {\"value\": \"#ae1325\", \"test\": \"datum.PIB_ind\\u00fastria <= 0\"}, \"value\": \"#1a1e76\"}, \"tooltip\": [{\"type\": \"temporal\", \"field\": \"index\", \"timeUnit\": \"year\"}, {\"type\": \"quantitative\", \"field\": \"PIB_ind\\u00fastria\"}], \"x\": {\"type\": \"temporal\", \"field\": \"index\", \"timeUnit\": \"year\", \"title\": \"Per\\u00edodo\"}, \"y\": {\"type\": \"quantitative\", \"field\": \"PIB_ind\\u00fastria\", \"title\": \"Varia\\u00e7\\u00e3o percentual\"}}, \"height\": 400, \"title\": \"Varia\\u00e7\\u00e3o anual do PIB da Ind\\u00fastria\", \"width\": 800, \"$schema\": \"https://vega.github.io/schema/vega-lite/v4.8.1.json\", \"datasets\": {\"data-f5646c3ff96a18ec21609d2745238423\": [{\"index\": \"2015-01-01T00:00:00\", \"PIB_ind\\u00fastria\": -5.76}, {\"index\": \"2016-01-01T00:00:00\", \"PIB_ind\\u00fastria\": -4.57}, {\"index\": \"2017-01-01T00:00:00\", \"PIB_ind\\u00fastria\": -0.5}, {\"index\": \"2018-01-01T00:00:00\", \"PIB_ind\\u00fastria\": 0.72}, {\"index\": \"2019-01-01T00:00:00\", \"PIB_ind\\u00fastria\": 0.37}, {\"index\": \"2020-01-01T00:00:00\", \"PIB_ind\\u00fastria\": -3.48}]}}, {\"mode\": \"vega-lite\"});\n",
       "</script>"
      ],
      "text/plain": [
       "alt.Chart(...)"
      ]
     },
     "execution_count": 11,
     "metadata": {},
     "output_type": "execute_result"
    }
   ],
   "source": [
    "fig = (\n",
    "    alt.Chart(\n",
    "        PIB_setor['PIB_indústria'].reset_index(),\n",
    "        title='Variação anual do PIB da Indústria',\n",
    "        width=800,\n",
    "        height=400)\n",
    "    .mark_bar(width=90)\n",
    "    .encode(\n",
    "        x = alt.X('year(index):T', title='Período'),\n",
    "        y = alt.Y('PIB_indústria:Q', title='Variação percentual'),\n",
    "        color=highlight_breakpoint(\"PIB_indústria\"),\n",
    "        tooltip=alt.Tooltip(['year(index):T', 'PIB_indústria:Q'])\n",
    "    )\n",
    ")\n",
    "fig"
   ]
  }
 ],
 "metadata": {
  "kernelspec": {
   "display_name": "Python 3",
   "language": "python",
   "name": "python3"
  },
  "language_info": {
   "codemirror_mode": {
    "name": "ipython",
    "version": 3
   },
   "file_extension": ".py",
   "mimetype": "text/x-python",
   "name": "python",
   "nbconvert_exporter": "python",
   "pygments_lexer": "ipython3",
   "version": "3.8.5"
  }
 },
 "nbformat": 4,
 "nbformat_minor": 5
}
