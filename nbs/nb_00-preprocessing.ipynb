{
 "cells": [
  {
   "cell_type": "markdown",
   "metadata": {},
   "source": [
    "# Pré-Processamento - Leitura e Limpeza"
   ]
  },
  {
   "cell_type": "markdown",
   "metadata": {},
   "source": [
    "## Resumo do alcance dessa etapa"
   ]
  },
  {
   "cell_type": "markdown",
   "metadata": {},
   "source": [
    "Os dados são importados de diferentes fontes e unidos em uma única base.\n",
    "A cada variável é dado um nome informativo, a base é limpada de inconsitências e ausências e, por fim, a desigualdade (medida como um índice Gini) é classificada em duas categorias: alto e baixo."
   ]
  },
  {
   "cell_type": "markdown",
   "metadata": {},
   "source": [
    "Fonte dados:\n",
    "https://mapasinterativos.ibge.gov.br/agrocompara/\n",
    "\n",
    "Fonte Gini:"
   ]
  },
  {
   "cell_type": "markdown",
   "metadata": {},
   "source": [
    "## Detalhamento da etapa"
   ]
  },
  {
   "cell_type": "markdown",
   "metadata": {},
   "source": [
    "### Imports"
   ]
  },
  {
   "cell_type": "code",
   "execution_count": 1,
   "metadata": {},
   "outputs": [],
   "source": [
    "import pandas as pd\n",
    "import numpy as np\n",
    "import geopandas as gpd"
   ]
  },
  {
   "cell_type": "code",
   "execution_count": 3,
   "metadata": {
    "tags": [
     "remove-input"
    ]
   },
   "outputs": [],
   "source": [
    "import yaml\n",
    "\n",
    "with open('/mnt/d/Clientes/ODX/agro/online_book/_local_paths.yml') as f:\n",
    "    paths = yaml.load(f, Loader=yaml.FullLoader)\n",
    "\n",
    "GINI_DATA_PATH = paths['GINI_DATA_PATH']\n",
    "CENSO_AGRO_DATA_PATH = paths['CENSO_AGRO_DATA_PATH']"
   ]
  },
  {
   "cell_type": "code",
   "execution_count": 4,
   "metadata": {},
   "outputs": [],
   "source": [
    "y = pd.read_excel(GINI_DATA_PATH)\n",
    "df = gpd.read_file(CENSO_AGRO_DATA_PATH)"
   ]
  },
  {
   "cell_type": "code",
   "execution_count": 5,
   "metadata": {},
   "outputs": [
    {
     "data": {
      "text/html": [
       "<div>\n",
       "<style scoped>\n",
       "    .dataframe tbody tr th:only-of-type {\n",
       "        vertical-align: middle;\n",
       "    }\n",
       "\n",
       "    .dataframe tbody tr th {\n",
       "        vertical-align: top;\n",
       "    }\n",
       "\n",
       "    .dataframe thead th {\n",
       "        text-align: right;\n",
       "    }\n",
       "</style>\n",
       "<table border=\"1\" class=\"dataframe\">\n",
       "  <thead>\n",
       "    <tr style=\"text-align: right;\">\n",
       "      <th></th>\n",
       "      <th>OBJECTID</th>\n",
       "      <th>MUNICIPIO</th>\n",
       "      <th>Shape_Leng</th>\n",
       "      <th>Shape_Area</th>\n",
       "      <th>V1</th>\n",
       "      <th>V2</th>\n",
       "      <th>V3</th>\n",
       "      <th>V4</th>\n",
       "      <th>V5</th>\n",
       "      <th>V6</th>\n",
       "      <th>...</th>\n",
       "      <th>GEO</th>\n",
       "      <th>V32</th>\n",
       "      <th>V33</th>\n",
       "      <th>V34</th>\n",
       "      <th>V35</th>\n",
       "      <th>V36</th>\n",
       "      <th>V37</th>\n",
       "      <th>V38</th>\n",
       "      <th>V39</th>\n",
       "      <th>geometry</th>\n",
       "    </tr>\n",
       "  </thead>\n",
       "  <tbody>\n",
       "    <tr>\n",
       "      <th>0</th>\n",
       "      <td>1</td>\n",
       "      <td>Lupionópolis - PR</td>\n",
       "      <td>0.514701</td>\n",
       "      <td>0.010596</td>\n",
       "      <td>173.0</td>\n",
       "      <td>59.7001</td>\n",
       "      <td>3.23121</td>\n",
       "      <td>165.7380</td>\n",
       "      <td>852.3680</td>\n",
       "      <td>124.3040</td>\n",
       "      <td>...</td>\n",
       "      <td>4113809.0</td>\n",
       "      <td>2.457880</td>\n",
       "      <td>1.156070</td>\n",
       "      <td>48.55490</td>\n",
       "      <td>8.586240</td>\n",
       "      <td>8.09249</td>\n",
       "      <td>68.78610</td>\n",
       "      <td>71.0983</td>\n",
       "      <td>36.9942</td>\n",
       "      <td>POLYGON Z ((-51.63021 -22.66372 0.00000, -51.6...</td>\n",
       "    </tr>\n",
       "    <tr>\n",
       "      <th>1</th>\n",
       "      <td>2</td>\n",
       "      <td>Águas de Lindóia - SP</td>\n",
       "      <td>0.344094</td>\n",
       "      <td>0.004856</td>\n",
       "      <td>69.0</td>\n",
       "      <td>28.4016</td>\n",
       "      <td>3.42029</td>\n",
       "      <td>36.3902</td>\n",
       "      <td>80.0584</td>\n",
       "      <td>133.4310</td>\n",
       "      <td>...</td>\n",
       "      <td>3500501.0</td>\n",
       "      <td>2.185360</td>\n",
       "      <td>5.797100</td>\n",
       "      <td>39.13040</td>\n",
       "      <td>2.435280</td>\n",
       "      <td>13.04350</td>\n",
       "      <td>49.27540</td>\n",
       "      <td>60.8696</td>\n",
       "      <td>46.3768</td>\n",
       "      <td>POLYGON Z ((-46.61019 -22.43936 0.00000, -46.6...</td>\n",
       "    </tr>\n",
       "    <tr>\n",
       "      <th>2</th>\n",
       "      <td>3</td>\n",
       "      <td>Uruará - PA</td>\n",
       "      <td>5.505977</td>\n",
       "      <td>0.882292</td>\n",
       "      <td>3993.0</td>\n",
       "      <td>137.3820</td>\n",
       "      <td>3.05109</td>\n",
       "      <td>1556.9600</td>\n",
       "      <td>4003.6200</td>\n",
       "      <td>800.7230</td>\n",
       "      <td>...</td>\n",
       "      <td>1508159.0</td>\n",
       "      <td>0.947595</td>\n",
       "      <td>0.075132</td>\n",
       "      <td>30.12770</td>\n",
       "      <td>3.377250</td>\n",
       "      <td>2.17881</td>\n",
       "      <td>5.76008</td>\n",
       "      <td>84.0471</td>\n",
       "      <td>64.1122</td>\n",
       "      <td>POLYGON Z ((-53.85954 -2.88750 0.00000, -53.85...</td>\n",
       "    </tr>\n",
       "    <tr>\n",
       "      <th>3</th>\n",
       "      <td>4</td>\n",
       "      <td>São Leopoldo - RS</td>\n",
       "      <td>0.505968</td>\n",
       "      <td>0.009694</td>\n",
       "      <td>65.0</td>\n",
       "      <td>26.7850</td>\n",
       "      <td>3.44615</td>\n",
       "      <td>85.3800</td>\n",
       "      <td>85.3800</td>\n",
       "      <td>18.9733</td>\n",
       "      <td>...</td>\n",
       "      <td>4318705.0</td>\n",
       "      <td>1.906410</td>\n",
       "      <td>1.538460</td>\n",
       "      <td>9.23077</td>\n",
       "      <td>0.754856</td>\n",
       "      <td>20.00000</td>\n",
       "      <td>26.15380</td>\n",
       "      <td>53.8462</td>\n",
       "      <td>40.0000</td>\n",
       "      <td>POLYGON Z ((-51.17861 -29.69309 0.00000, -51.1...</td>\n",
       "    </tr>\n",
       "    <tr>\n",
       "      <th>4</th>\n",
       "      <td>5</td>\n",
       "      <td>Vargem - SP</td>\n",
       "      <td>0.535624</td>\n",
       "      <td>0.012407</td>\n",
       "      <td>228.0</td>\n",
       "      <td>31.9352</td>\n",
       "      <td>3.11404</td>\n",
       "      <td>52.0186</td>\n",
       "      <td>127.1570</td>\n",
       "      <td>54.4957</td>\n",
       "      <td>...</td>\n",
       "      <td>3556354.0</td>\n",
       "      <td>1.693530</td>\n",
       "      <td>0.877193</td>\n",
       "      <td>12.71930</td>\n",
       "      <td>2.231690</td>\n",
       "      <td>14.03510</td>\n",
       "      <td>55.26320</td>\n",
       "      <td>54.8246</td>\n",
       "      <td>51.7544</td>\n",
       "      <td>POLYGON Z ((-46.39678 -22.81069 0.00000, -46.3...</td>\n",
       "    </tr>\n",
       "  </tbody>\n",
       "</table>\n",
       "<p>5 rows × 45 columns</p>\n",
       "</div>"
      ],
      "text/plain": [
       "   OBJECTID              MUNICIPIO  Shape_Leng  Shape_Area      V1        V2  \\\n",
       "0         1      Lupionópolis - PR    0.514701    0.010596   173.0   59.7001   \n",
       "1         2  Águas de Lindóia - SP    0.344094    0.004856    69.0   28.4016   \n",
       "2         3            Uruará - PA    5.505977    0.882292  3993.0  137.3820   \n",
       "3         4      São Leopoldo - RS    0.505968    0.009694    65.0   26.7850   \n",
       "4         5            Vargem - SP    0.535624    0.012407   228.0   31.9352   \n",
       "\n",
       "        V3         V4         V5        V6  ...        GEO       V32  \\\n",
       "0  3.23121   165.7380   852.3680  124.3040  ...  4113809.0  2.457880   \n",
       "1  3.42029    36.3902    80.0584  133.4310  ...  3500501.0  2.185360   \n",
       "2  3.05109  1556.9600  4003.6200  800.7230  ...  1508159.0  0.947595   \n",
       "3  3.44615    85.3800    85.3800   18.9733  ...  4318705.0  1.906410   \n",
       "4  3.11404    52.0186   127.1570   54.4957  ...  3556354.0  1.693530   \n",
       "\n",
       "        V33       V34       V35       V36       V37      V38      V39  \\\n",
       "0  1.156070  48.55490  8.586240   8.09249  68.78610  71.0983  36.9942   \n",
       "1  5.797100  39.13040  2.435280  13.04350  49.27540  60.8696  46.3768   \n",
       "2  0.075132  30.12770  3.377250   2.17881   5.76008  84.0471  64.1122   \n",
       "3  1.538460   9.23077  0.754856  20.00000  26.15380  53.8462  40.0000   \n",
       "4  0.877193  12.71930  2.231690  14.03510  55.26320  54.8246  51.7544   \n",
       "\n",
       "                                            geometry  \n",
       "0  POLYGON Z ((-51.63021 -22.66372 0.00000, -51.6...  \n",
       "1  POLYGON Z ((-46.61019 -22.43936 0.00000, -46.6...  \n",
       "2  POLYGON Z ((-53.85954 -2.88750 0.00000, -53.85...  \n",
       "3  POLYGON Z ((-51.17861 -29.69309 0.00000, -51.1...  \n",
       "4  POLYGON Z ((-46.39678 -22.81069 0.00000, -46.3...  \n",
       "\n",
       "[5 rows x 45 columns]"
      ]
     },
     "execution_count": 5,
     "metadata": {},
     "output_type": "execute_result"
    }
   ],
   "source": [
    "df.head()"
   ]
  },
  {
   "cell_type": "code",
   "execution_count": 6,
   "metadata": {},
   "outputs": [
    {
     "name": "stdout",
     "output_type": "stream",
     "text": [
      "<class 'geopandas.geodataframe.GeoDataFrame'>\n",
      "RangeIndex: 5570 entries, 0 to 5569\n",
      "Data columns (total 45 columns):\n",
      " #   Column      Non-Null Count  Dtype   \n",
      "---  ------      --------------  -----   \n",
      " 0   OBJECTID    5570 non-null   int64   \n",
      " 1   MUNICIPIO   5570 non-null   object  \n",
      " 2   Shape_Leng  5570 non-null   float64 \n",
      " 3   Shape_Area  5570 non-null   float64 \n",
      " 4   V1          5570 non-null   float64 \n",
      " 5   V2          5570 non-null   float64 \n",
      " 6   V3          5570 non-null   float64 \n",
      " 7   V4          5570 non-null   float64 \n",
      " 8   V5          5570 non-null   float64 \n",
      " 9   V6          5570 non-null   float64 \n",
      " 10  V7          5570 non-null   float64 \n",
      " 11  V8          5570 non-null   float64 \n",
      " 12  V9          5570 non-null   float64 \n",
      " 13  V10         5570 non-null   float64 \n",
      " 14  V11         5570 non-null   float64 \n",
      " 15  V12         5570 non-null   float64 \n",
      " 16  V13         5570 non-null   float64 \n",
      " 17  V14         5570 non-null   float64 \n",
      " 18  V15         5570 non-null   float64 \n",
      " 19  V16         5570 non-null   float64 \n",
      " 20  V17         5570 non-null   float64 \n",
      " 21  V18         5570 non-null   float64 \n",
      " 22  V19         5570 non-null   float64 \n",
      " 23  V20         5570 non-null   float64 \n",
      " 24  V21         5570 non-null   float64 \n",
      " 25  V22         5570 non-null   float64 \n",
      " 26  V23         5570 non-null   float64 \n",
      " 27  V24         5570 non-null   float64 \n",
      " 28  V25         5570 non-null   float64 \n",
      " 29  V26         5570 non-null   float64 \n",
      " 30  V27         5570 non-null   float64 \n",
      " 31  V28         5570 non-null   float64 \n",
      " 32  V29         5570 non-null   float64 \n",
      " 33  V30         5570 non-null   float64 \n",
      " 34  V31         5570 non-null   float64 \n",
      " 35  GEO         5570 non-null   float64 \n",
      " 36  V32         5570 non-null   float64 \n",
      " 37  V33         5570 non-null   float64 \n",
      " 38  V34         5570 non-null   float64 \n",
      " 39  V35         5570 non-null   float64 \n",
      " 40  V36         5570 non-null   float64 \n",
      " 41  V37         5570 non-null   float64 \n",
      " 42  V38         5570 non-null   float64 \n",
      " 43  V39         5570 non-null   float64 \n",
      " 44  geometry    5570 non-null   geometry\n",
      "dtypes: float64(42), geometry(1), int64(1), object(1)\n",
      "memory usage: 1.9+ MB\n"
     ]
    }
   ],
   "source": [
    "df.info()"
   ]
  },
  {
   "cell_type": "markdown",
   "metadata": {},
   "source": [
    "O arquivo utilizado veio com as variáveis nomeadas de maneira pouco informativa.\n",
    "\n",
    "Com auxílio do [dicionário de dados](https://mapasinterativos.ibge.gov.br/agrocompara/dados/def_indicadores.pdf), mudamos os rótulos para que sejam mais informativos."
   ]
  },
  {
   "cell_type": "code",
   "execution_count": 7,
   "metadata": {
    "tags": [
     "hide-input"
    ]
   },
   "outputs": [],
   "source": [
    "dict_rename = {\n",
    "    'V1' :'Estabelecimento Agropecuário (N)',\n",
    "    'V2' :'Área média (ha)',\n",
    "    'V3' : 'Pessoal Ocupado / Estabelecimento (Pessoa)',\n",
    "    'V4' :'Área lavoura/ Adubadeira (ha)',\n",
    "    'V5' :'Área lavoura/ Colheitadeira(ha)',\n",
    "    'V6' :'Área lavoura/ Semeadeira(ha)',\n",
    "    'V7' :'Área lavoura/ Trator(ha)',\n",
    "    'V8' :'Atividade-Lavoura Temporária (%)',\n",
    "    'V9' :'Atividade-Lavoura Permanente(%)',\n",
    "    'V10' :'Atividade-Pecuária(%)',\n",
    "    'V11' :'Atividade-Horticultura&Floricultura(%)',\n",
    "    'V12' :'Atividade-Sementes&Mudas(%)',\n",
    "    'V13' :'Atividade-Produção Florestal(%)',\n",
    "    'V14' :'Atividade-Pesca(%)',\n",
    "    'V15' :'Atividade-Aquicultura(%)',\n",
    "    'V16' :'Uso das terras-Lavoura(%)',\n",
    "    'V17' :'Uso das terras-Pastagem (%)',\n",
    "    'V18' :'Aves-Corte (%)',\n",
    "    'V19' :'Aves-Ovos(%)',\n",
    "    'V20' :'Bovinos-Corte (%)',\n",
    "    'V21' :'Bovinos-Leite(%)',\n",
    "    'V22' :'Rendimento-Arroz (kg/ha)',\n",
    "    'V23' :'Rendimento-Cana (kg/ha)',\n",
    "    'V24' :'Rendimento-Mandioca (kg/ha)',\n",
    "    'V25' :'Rendimento-Milho (kg/ha)',\n",
    "    'V26' :'Rendimento-Soja (kg/ha)',\n",
    "    'V27' :'Rendimento-Trigo(kg/ha)',\n",
    "    'V28' :'Rendimento-Cacau(kg/ha)',\n",
    "    'V29' :'Rendimento-Café(kg/ha)',\n",
    "    'V30':'Rendimento-Laranja(kg/ha)',\n",
    "    'V31':'Rendimento-Uva(kg/ha)',\n",
    "    'V32':'Carga de Bovinos (n/ha)',\n",
    "    'V33':'Cisterna (%)',\n",
    "    'V34':'Utilização de Agrotóxicos (%)',\n",
    "    'V35':'Despesa com Agrotóxicos (%)',\n",
    "    'V36':'Uso de irrigação (%)',\n",
    "    'V37':'Assistência Técnica (%)',\n",
    "    'V38':'Agricultura familiar (%)',\n",
    "    'V39':'Produtor com escolaridade até Ensino Fundamental(%)',\n",
    "}"
   ]
  },
  {
   "cell_type": "code",
   "execution_count": 8,
   "metadata": {},
   "outputs": [],
   "source": [
    "df = df.rename(columns=dict_rename)"
   ]
  },
  {
   "cell_type": "markdown",
   "metadata": {},
   "source": [
    "Nem todas as variáveis são informativas para essa análise (como as coordenadas dos shapes, por exemplo).\n",
    "Abaixo, selecionamos as que não foram julgadas relevantes."
   ]
  },
  {
   "cell_type": "code",
   "execution_count": 9,
   "metadata": {
    "tags": [
     "hide-input"
    ]
   },
   "outputs": [],
   "source": [
    "variaveis_relevantes = [\n",
    "    'GEO', 'MUNICIPIO', 'Estabelecimento Agropecuário (N)',\n",
    "    'Área média (ha)', 'Pessoal Ocupado / Estabelecimento (Pessoa)',\n",
    "    'Área lavoura/ Adubadeira (ha)', 'Área lavoura/ Colheitadeira(ha)',\n",
    "    'Área lavoura/ Semeadeira(ha)', 'Área lavoura/ Trator(ha)',\n",
    "    'Atividade-Lavoura Temporária (%)', 'Atividade-Lavoura Permanente(%)',\n",
    "    'Atividade-Pecuária(%)', 'Atividade-Horticultura&Floricultura(%)',\n",
    "    'Atividade-Sementes&Mudas(%)', 'Atividade-Produção Florestal(%)',\n",
    "    'Atividade-Pesca(%)', 'Atividade-Aquicultura(%)',\n",
    "    'Uso das terras-Lavoura(%)', 'Uso das terras-Pastagem (%)',\n",
    "    'Aves-Corte (%)', 'Aves-Ovos(%)', 'Bovinos-Corte (%)',\n",
    "    'Bovinos-Leite(%)', 'Rendimento-Arroz (kg/ha)',\n",
    "    'Rendimento-Cana (kg/ha)', 'Rendimento-Mandioca (kg/ha)',\n",
    "    'Rendimento-Milho (kg/ha)', 'Rendimento-Soja (kg/ha)',\n",
    "    'Rendimento-Trigo(kg/ha)', 'Rendimento-Cacau(kg/ha)',\n",
    "    'Rendimento-Café(kg/ha)', 'Rendimento-Laranja(kg/ha)',\n",
    "    'Rendimento-Uva(kg/ha)', 'Carga de Bovinos (n/ha)',\n",
    "    'Cisterna (%)', 'Utilização de Agrotóxicos (%)',\n",
    "    'Despesa com Agrotóxicos (%)', 'Uso de irrigação (%)',\n",
    "    'Assistência Técnica (%)', 'Agricultura familiar (%)',\n",
    "    'Produtor com escolaridade até Ensino Fundamental(%)',\n",
    "    ]"
   ]
  },
  {
   "cell_type": "code",
   "execution_count": 10,
   "metadata": {},
   "outputs": [],
   "source": [
    "df = df[variaveis_relevantes]"
   ]
  },
  {
   "cell_type": "markdown",
   "metadata": {},
   "source": [
    "Com os dados do censo agropecuário melhor formatados, seguimos para processamento dos dados da FONTE"
   ]
  },
  {
   "cell_type": "code",
   "execution_count": 11,
   "metadata": {},
   "outputs": [
    {
     "name": "stdout",
     "output_type": "stream",
     "text": [
      "(5563, 6)\n"
     ]
    },
    {
     "data": {
      "text/html": [
       "<div>\n",
       "<style scoped>\n",
       "    .dataframe tbody tr th:only-of-type {\n",
       "        vertical-align: middle;\n",
       "    }\n",
       "\n",
       "    .dataframe tbody tr th {\n",
       "        vertical-align: top;\n",
       "    }\n",
       "\n",
       "    .dataframe thead th {\n",
       "        text-align: right;\n",
       "    }\n",
       "</style>\n",
       "<table border=\"1\" class=\"dataframe\">\n",
       "  <thead>\n",
       "    <tr style=\"text-align: right;\">\n",
       "      <th></th>\n",
       "      <th>COD_UF</th>\n",
       "      <th>NOME_UF</th>\n",
       "      <th>COD_MUN</th>\n",
       "      <th>NOM_MUN</th>\n",
       "      <th>AREAMED</th>\n",
       "      <th>gini</th>\n",
       "    </tr>\n",
       "  </thead>\n",
       "  <tbody>\n",
       "    <tr>\n",
       "      <th>0</th>\n",
       "      <td>11</td>\n",
       "      <td>RONDONIA</td>\n",
       "      <td>1100015</td>\n",
       "      <td>ALTA FLORESTA DOESTE</td>\n",
       "      <td>129.156672</td>\n",
       "      <td>0.836474</td>\n",
       "    </tr>\n",
       "    <tr>\n",
       "      <th>1</th>\n",
       "      <td>11</td>\n",
       "      <td>RONDONIA</td>\n",
       "      <td>1100023</td>\n",
       "      <td>ARIQUEMES</td>\n",
       "      <td>114.15835</td>\n",
       "      <td>0.73279</td>\n",
       "    </tr>\n",
       "    <tr>\n",
       "      <th>2</th>\n",
       "      <td>11</td>\n",
       "      <td>RONDONIA</td>\n",
       "      <td>1100031</td>\n",
       "      <td>CABIXI</td>\n",
       "      <td>105.194995</td>\n",
       "      <td>0.744177</td>\n",
       "    </tr>\n",
       "    <tr>\n",
       "      <th>3</th>\n",
       "      <td>11</td>\n",
       "      <td>RONDONIA</td>\n",
       "      <td>1100049</td>\n",
       "      <td>CACOAL</td>\n",
       "      <td>58.046611</td>\n",
       "      <td>0.695199</td>\n",
       "    </tr>\n",
       "    <tr>\n",
       "      <th>4</th>\n",
       "      <td>11</td>\n",
       "      <td>RONDONIA</td>\n",
       "      <td>1100056</td>\n",
       "      <td>CEREJEIRAS</td>\n",
       "      <td>176.197346</td>\n",
       "      <td>0.827577</td>\n",
       "    </tr>\n",
       "  </tbody>\n",
       "</table>\n",
       "</div>"
      ],
      "text/plain": [
       "   COD_UF   NOME_UF  COD_MUN               NOM_MUN     AREAMED      gini\n",
       "0      11  RONDONIA  1100015  ALTA FLORESTA DOESTE  129.156672  0.836474\n",
       "1      11  RONDONIA  1100023             ARIQUEMES   114.15835   0.73279\n",
       "2      11  RONDONIA  1100031                CABIXI  105.194995  0.744177\n",
       "3      11  RONDONIA  1100049                CACOAL   58.046611  0.695199\n",
       "4      11  RONDONIA  1100056            CEREJEIRAS  176.197346  0.827577"
      ]
     },
     "execution_count": 11,
     "metadata": {},
     "output_type": "execute_result"
    }
   ],
   "source": [
    "print(y.shape)\n",
    "y.head()"
   ]
  },
  {
   "cell_type": "code",
   "execution_count": 12,
   "metadata": {},
   "outputs": [
    {
     "name": "stdout",
     "output_type": "stream",
     "text": [
      "<class 'pandas.core.frame.DataFrame'>\n",
      "RangeIndex: 5563 entries, 0 to 5562\n",
      "Data columns (total 6 columns):\n",
      " #   Column   Non-Null Count  Dtype \n",
      "---  ------   --------------  ----- \n",
      " 0   COD_UF   5563 non-null   int64 \n",
      " 1   NOME_UF  5563 non-null   object\n",
      " 2   COD_MUN  5563 non-null   int64 \n",
      " 3   NOM_MUN  5563 non-null   object\n",
      " 4   AREAMED  5563 non-null   object\n",
      " 5   gini     5563 non-null   object\n",
      "dtypes: int64(2), object(4)\n",
      "memory usage: 260.9+ KB\n"
     ]
    }
   ],
   "source": [
    "y.info()"
   ]
  },
  {
   "cell_type": "code",
   "execution_count": 13,
   "metadata": {},
   "outputs": [],
   "source": [
    "y.gini = pd.to_numeric(y.gini, errors='coerce')"
   ]
  },
  {
   "cell_type": "markdown",
   "metadata": {},
   "source": [
    "Nem todas as variáveis são relevantes, mas a limpeza será feita após o merge"
   ]
  },
  {
   "cell_type": "markdown",
   "metadata": {},
   "source": [
    "### Criação das categorias"
   ]
  },
  {
   "cell_type": "markdown",
   "metadata": {},
   "source": [
    "Gini foi binarizado em 'gini_alto' e 'gini_baixo', critério de corte no 50 percentil"
   ]
  },
  {
   "cell_type": "code",
   "execution_count": 14,
   "metadata": {},
   "outputs": [
    {
     "data": {
      "text/plain": [
       "0.7450668545258983"
      ]
     },
     "execution_count": 14,
     "metadata": {},
     "output_type": "execute_result"
    }
   ],
   "source": [
    "# valor de corte\n",
    "y.gini.quantile(q=.5)"
   ]
  },
  {
   "cell_type": "code",
   "execution_count": 15,
   "metadata": {},
   "outputs": [],
   "source": [
    "y.gini = np.select(\n",
    "    [y['gini'] <= y['gini'].quantile(q=.5)],\n",
    "    ['gini_baixo'], default='gini_alto'\n",
    ")"
   ]
  },
  {
   "cell_type": "markdown",
   "metadata": {},
   "source": [
    "### Merge"
   ]
  },
  {
   "cell_type": "code",
   "execution_count": 16,
   "metadata": {},
   "outputs": [],
   "source": [
    "df = df.merge(y, left_on='GEO', right_on='COD_MUN')"
   ]
  },
  {
   "cell_type": "code",
   "execution_count": 17,
   "metadata": {},
   "outputs": [
    {
     "data": {
      "text/plain": [
       "(5563, 47)"
      ]
     },
     "execution_count": 17,
     "metadata": {},
     "output_type": "execute_result"
    }
   ],
   "source": [
    "df.shape"
   ]
  },
  {
   "cell_type": "code",
   "execution_count": 18,
   "metadata": {},
   "outputs": [
    {
     "data": {
      "text/plain": [
       "(5563, 47)"
      ]
     },
     "execution_count": 18,
     "metadata": {},
     "output_type": "execute_result"
    }
   ],
   "source": [
    "df.dropna().shape #inefetivo, o merge foi do tipo 'inner_join', não haviam NAs resultantes"
   ]
  },
  {
   "cell_type": "markdown",
   "metadata": {},
   "source": [
    "Em seguida, separamos os labels dos municípios e as variáveis de interesse."
   ]
  },
  {
   "cell_type": "code",
   "execution_count": 19,
   "metadata": {},
   "outputs": [],
   "source": [
    "municipios = df['MUNICIPIO']\n",
    "X = df.drop(columns=[\n",
    "    'COD_UF', 'NOME_UF', 'COD_MUN', 'NOM_MUN', 'AREAMED', 'GEO', 'MUNICIPIO'\n",
    "])"
   ]
  },
  {
   "cell_type": "markdown",
   "metadata": {},
   "source": [
    "A próxima etapa é escalar e codificar as features conforme necessário."
   ]
  },
  {
   "cell_type": "code",
   "execution_count": 20,
   "metadata": {
    "tags": [
     "remove-input"
    ]
   },
   "outputs": [],
   "source": [
    "# editar metadata\n",
    "# tags ['remove-input']\n",
    "\n",
    "municipios.to_pickle(paths['municipios'])\n",
    "X.to_pickle(paths['X'])"
   ]
  },
  {
   "cell_type": "code",
   "execution_count": null,
   "metadata": {},
   "outputs": [],
   "source": []
  }
 ],
 "metadata": {
  "kernelspec": {
   "display_name": "Python 3",
   "language": "python",
   "name": "python3"
  },
  "language_info": {
   "codemirror_mode": {
    "name": "ipython",
    "version": 3
   },
   "file_extension": ".py",
   "mimetype": "text/x-python",
   "name": "python",
   "nbconvert_exporter": "python",
   "pygments_lexer": "ipython3",
   "version": "3.8.5"
  },
  "metadata": {
   "interpreter": {
    "hash": "56e4395806e6b92ba3ed91a8ac970f763fed4ea63d65672dcfd0ff91b1d1b458"
   }
  }
 },
 "nbformat": 4,
 "nbformat_minor": 4
}
