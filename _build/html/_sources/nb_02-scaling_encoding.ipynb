{
 "cells": [
  {
   "cell_type": "markdown",
   "metadata": {},
   "source": [
    "# Pré-Processamento - Padronização e Codificação"
   ]
  },
  {
   "cell_type": "markdown",
   "metadata": {},
   "source": [
    "## Resumo do alcance dessa etapa"
   ]
  },
  {
   "cell_type": "markdown",
   "metadata": {},
   "source": [
    "Os dados são transformados e codificados para adequação com os algorítimos de apredizagem computacional utilizados em seguida."
   ]
  },
  {
   "cell_type": "markdown",
   "metadata": {},
   "source": [
    "## Detalhamento da etapa"
   ]
  },
  {
   "cell_type": "markdown",
   "metadata": {},
   "source": [
    "### Imports"
   ]
  },
  {
   "cell_type": "code",
   "execution_count": 1,
   "metadata": {},
   "outputs": [],
   "source": [
    "import pandas as pd\n",
    "import numpy as np\n",
    "\n",
    "from sklearn.preprocessing import OneHotEncoder, MinMaxScaler\n",
    "\n",
    "import joblib"
   ]
  },
  {
   "cell_type": "code",
   "execution_count": 2,
   "metadata": {},
   "outputs": [],
   "source": [
    "# editar metadata\n",
    "# tags ['remove-input']\n",
    "X = pd.read_pickle('/mnt/d/Clientes/ODX/agro/agro_book/data/X.pkl.xz')"
   ]
  },
  {
   "cell_type": "code",
   "execution_count": 3,
   "metadata": {},
   "outputs": [],
   "source": [
    "y = X['gini']\n",
    "X = X.drop(columns=['gini'])"
   ]
  },
  {
   "cell_type": "markdown",
   "metadata": {},
   "source": [
    "## Padronização"
   ]
  },
  {
   "cell_type": "markdown",
   "metadata": {},
   "source": [
    "Foi escolhida a padronização de todas as variáveis a valores entre 0 e 1."
   ]
  },
  {
   "cell_type": "code",
   "execution_count": 4,
   "metadata": {},
   "outputs": [],
   "source": [
    "x_scaler = MinMaxScaler()\n",
    "scaled_X = x_scaler.fit_transform(X)"
   ]
  },
  {
   "cell_type": "markdown",
   "metadata": {},
   "source": [
    "### Codificação"
   ]
  },
  {
   "cell_type": "markdown",
   "metadata": {},
   "source": [
    "A variável alvo, o índice gini, é codificado de forma binária a seguir.\n",
    "\n",
    "O formato foi escolhido porque ele se adapta a todos os algorítimos escolhidos.\n",
    "\n",
    "Os rótulos das categorias foram mantidos para utilização nos métodos que os pedem."
   ]
  },
  {
   "cell_type": "code",
   "execution_count": 5,
   "metadata": {},
   "outputs": [],
   "source": [
    "y_scaler = OneHotEncoder(sparse=False, drop='first')\n",
    "scaled_y = y_scaler.fit_transform([[i] for i in y.values])\n",
    "\n",
    "categories = y_scaler.categories_[0].tolist()"
   ]
  },
  {
   "cell_type": "markdown",
   "metadata": {},
   "source": [
    "Em seguida, prosseguimos para as modelagens."
   ]
  },
  {
   "cell_type": "code",
   "execution_count": 9,
   "metadata": {},
   "outputs": [
    {
     "data": {
      "text/plain": "['/mnt/d/Clientes/ODX/agro/agro_book/data/categories.joblib']"
     },
     "execution_count": 9,
     "metadata": {},
     "output_type": "execute_result"
    }
   ],
   "source": [
    "# editar metadata\n",
    "# tags ['remove-cell']\n",
    "\n",
    "joblib.dump(x_scaler, '/mnt/d/Clientes/ODX/agro/agro_book/data/x_scaler.joblib')\n",
    "joblib.dump(scaled_X, '/mnt/d/Clientes/ODX/agro/agro_book/data/scaled_X.joblib')\n",
    "\n",
    "joblib.dump(y_scaler, '/mnt/d/Clientes/ODX/agro/agro_book/data/y_scaler.joblib')\n",
    "joblib.dump(scaled_y, '/mnt/d/Clientes/ODX/agro/agro_book/data/scaled_y.joblib')\n",
    "\n",
    "joblib.dump(categories, '/mnt/d/Clientes/ODX/agro/agro_book/data/categories.joblib')"
   ]
  },
  {
   "cell_type": "code",
   "execution_count": null,
   "metadata": {},
   "outputs": [],
   "source": []
  }
 ],
 "metadata": {
  "kernelspec": {
   "display_name": "Python 3",
   "language": "python",
   "name": "python3"
  },
  "language_info": {
   "codemirror_mode": {
    "name": "ipython",
    "version": 3
   },
   "file_extension": ".py",
   "mimetype": "text/x-python",
   "name": "python",
   "nbconvert_exporter": "python",
   "pygments_lexer": "ipython3",
   "version": "3.8.5"
  },
  "orig_nbformat": 2
 },
 "nbformat": 4,
 "nbformat_minor": 2
}