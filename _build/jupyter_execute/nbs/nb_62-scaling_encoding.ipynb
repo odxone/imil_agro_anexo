{
 "cells": [
  {
   "cell_type": "markdown",
   "metadata": {},
   "source": [
    "# Pré-Processamento - Padronização e Codificação"
   ]
  },
  {
   "cell_type": "markdown",
   "metadata": {},
   "source": [
    "## Resumo do alcance dessa etapa"
   ]
  },
  {
   "cell_type": "markdown",
   "metadata": {},
   "source": [
    "Os dados são transformados e codificados para adequação com os algorítimos de apredizagem computacional utilizados em seguida."
   ]
  },
  {
   "cell_type": "markdown",
   "metadata": {},
   "source": [
    "## Detalhamento da etapa"
   ]
  },
  {
   "cell_type": "markdown",
   "metadata": {},
   "source": [
    "### Imports"
   ]
  },
  {
   "cell_type": "code",
   "execution_count": 1,
   "metadata": {},
   "outputs": [],
   "source": [
    "import pandas as pd\n",
    "import numpy as np\n",
    "\n",
    "from sklearn.preprocessing import OneHotEncoder, MinMaxScaler\n",
    "\n",
    "import joblib"
   ]
  },
  {
   "cell_type": "code",
   "execution_count": 3,
   "metadata": {
    "tags": [
     "remove-input"
    ]
   },
   "outputs": [],
   "source": [
    "import yaml\n",
    "\n",
    "with open('/mnt/d/Clientes/ODX/agro/online_book/_local_paths.yml') as f:\n",
    "    paths = yaml.load(f, Loader=yaml.FullLoader)\n",
    "\n",
    "X = pd.read_pickle(paths['X'])"
   ]
  },
  {
   "cell_type": "code",
   "execution_count": 4,
   "metadata": {},
   "outputs": [],
   "source": [
    "y = X['gini']\n",
    "X = X.drop(columns=['gini'])"
   ]
  },
  {
   "cell_type": "markdown",
   "metadata": {},
   "source": [
    "## Padronização"
   ]
  },
  {
   "cell_type": "markdown",
   "metadata": {},
   "source": [
    "Foi escolhida a padronização de todas as variáveis a valores entre 0 e 1."
   ]
  },
  {
   "cell_type": "code",
   "execution_count": 5,
   "metadata": {},
   "outputs": [],
   "source": [
    "x_scaler = MinMaxScaler()\n",
    "scaled_X = x_scaler.fit_transform(X)"
   ]
  },
  {
   "cell_type": "markdown",
   "metadata": {},
   "source": [
    "### Codificação"
   ]
  },
  {
   "cell_type": "markdown",
   "metadata": {},
   "source": [
    "A variável alvo, o índice gini, é codificado de forma binária a seguir.\n",
    "\n",
    "O formato foi escolhido porque ele se adapta a todos os algorítimos escolhidos.\n",
    "\n",
    "Os rótulos das categorias foram mantidos para utilização nos métodos que os pedem."
   ]
  },
  {
   "cell_type": "code",
   "execution_count": 6,
   "metadata": {},
   "outputs": [],
   "source": [
    "y_scaler = OneHotEncoder(sparse=False, drop='first')\n",
    "scaled_y = y_scaler.fit_transform([[i] for i in y.values])\n",
    "\n",
    "categories = y_scaler.categories_[0].tolist()"
   ]
  },
  {
   "cell_type": "markdown",
   "metadata": {},
   "source": [
    "Em seguida, prosseguimos para as modelagens."
   ]
  },
  {
   "cell_type": "code",
   "execution_count": 7,
   "metadata": {
    "tags": [
     "remove-cell"
    ]
   },
   "outputs": [
    {
     "data": {
      "text/plain": [
       "['/mnt/d/Clientes/ODX/agro/agro_book/data/categories.joblib']"
      ]
     },
     "execution_count": 7,
     "metadata": {},
     "output_type": "execute_result"
    }
   ],
   "source": [
    "joblib.dump(x_scaler, paths['x_scaler'])\n",
    "joblib.dump(scaled_X, paths['scaled_X'])\n",
    "\n",
    "joblib.dump(y_scaler, paths['y_scaler'])\n",
    "joblib.dump(scaled_y, paths['scaled_y'])\n",
    "\n",
    "joblib.dump(categories, paths['categories'])"
   ]
  },
  {
   "cell_type": "code",
   "execution_count": null,
   "metadata": {},
   "outputs": [],
   "source": []
  }
 ],
 "metadata": {
  "kernelspec": {
   "display_name": "Python 3",
   "language": "python",
   "name": "python3"
  },
  "language_info": {
   "codemirror_mode": {
    "name": "ipython",
    "version": 3
   },
   "file_extension": ".py",
   "mimetype": "text/x-python",
   "name": "python",
   "nbconvert_exporter": "python",
   "pygments_lexer": "ipython3",
   "version": "3.8.5"
  }
 },
 "nbformat": 4,
 "nbformat_minor": 4
}